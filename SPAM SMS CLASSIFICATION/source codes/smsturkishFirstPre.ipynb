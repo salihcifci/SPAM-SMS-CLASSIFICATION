{
 "cells": [
  {
   "cell_type": "code",
   "execution_count": 1,
   "metadata": {},
   "outputs": [],
   "source": [
    "import numpy as np      # linear algebra\n",
    "import pandas as pd     # data processing\n",
    "from matplotlib import pyplot as plt\n",
    "import re\n",
    "from string import punctuation, digits\n",
    "from sklearn.model_selection import train_test_split\n",
    "from sklearn.feature_extraction.text import CountVectorizer\n",
    "from sklearn.naive_bayes import MultinomialNB\n",
    "from sklearn.metrics import accuracy_score, precision_score, recall_score, f1_score\n",
    "from sklearn.neighbors import KNeighborsClassifier\n",
    "from sklearn.metrics import fbeta_score, make_scorer\n",
    "from sklearn.model_selection import cross_val_score\n",
    "from sklearn.ensemble import RandomForestClassifier\n",
    "from sklearn.linear_model import LogisticRegression\n",
    "from sklearn.svm import SVC\n",
    "from sklearn.tree import DecisionTreeClassifier\n",
    "from sklearn.ensemble import AdaBoostClassifier\n",
    "from xgboost import XGBClassifier\n",
    "from sklearn.linear_model import SGDClassifier\n",
    "from tensorflow.keras.models import Sequential\n",
    "from tensorflow.keras.layers import Dense\n",
    "from tensorflow.keras.layers import Flatten\n",
    "from tensorflow.keras.layers import Conv1D\n",
    "from tensorflow.keras.layers import MaxPooling1D\n",
    "from tensorflow.keras.layers import Embedding\n",
    "from keras.layers import LSTM\n",
    "from keras.layers import Dropout"
   ]
  },
  {
   "cell_type": "code",
   "execution_count": 2,
   "metadata": {},
   "outputs": [
    {
     "name": "stdout",
     "output_type": "stream",
     "text": [
      "(851, 8)\n"
     ]
    },
    {
     "data": {
      "text/html": [
       "<div>\n",
       "<style scoped>\n",
       "    .dataframe tbody tr th:only-of-type {\n",
       "        vertical-align: middle;\n",
       "    }\n",
       "\n",
       "    .dataframe tbody tr th {\n",
       "        vertical-align: top;\n",
       "    }\n",
       "\n",
       "    .dataframe thead th {\n",
       "        text-align: right;\n",
       "    }\n",
       "</style>\n",
       "<table border=\"1\" class=\"dataframe\">\n",
       "  <thead>\n",
       "    <tr style=\"text-align: right;\">\n",
       "      <th></th>\n",
       "      <th>Spam</th>\n",
       "      <th>V1</th>\n",
       "      <th>F3</th>\n",
       "      <th>F4</th>\n",
       "      <th>F5</th>\n",
       "      <th>F6</th>\n",
       "      <th>F7</th>\n",
       "      <th>F8</th>\n",
       "    </tr>\n",
       "  </thead>\n",
       "  <tbody>\n",
       "    <tr>\n",
       "      <th>0</th>\n",
       "      <td>Spam</td>\n",
       "      <td>\"Mudo Outletlere once gelen kazaniyor_ Mobilya basta olmak uzere \"</td>\n",
       "      <td>NaN</td>\n",
       "      <td>NaN</td>\n",
       "      <td>NaN</td>\n",
       "      <td>NaN</td>\n",
       "      <td>NaN</td>\n",
       "      <td>NaN</td>\n",
       "    </tr>\n",
       "    <tr>\n",
       "      <th>1</th>\n",
       "      <td>Spam</td>\n",
       "      <td>Yeni Turkcell avantaj paketleriyle yurtdisinda da rahat rahat konusabilirsiniz.Ihtiyaciniza gore sadece 15TLye gunluk 30dk yada 49TLye 1ay boyunca 90dklik konusma paketlerinden size uygun olani almak icin yurtdisina cikmadan mutlaka arayin.4440532</td>\n",
       "      <td>NaN</td>\n",
       "      <td>NaN</td>\n",
       "      <td>NaN</td>\n",
       "      <td>NaN</td>\n",
       "      <td>NaN</td>\n",
       "      <td>NaN</td>\n",
       "    </tr>\n",
       "    <tr>\n",
       "      <th>2</th>\n",
       "      <td>Ham</td>\n",
       "      <td>Cadde üzerinde Yeni site C blok no 3 zilde gokcer ozan tuna yaziyo</td>\n",
       "      <td>NaN</td>\n",
       "      <td>NaN</td>\n",
       "      <td>NaN</td>\n",
       "      <td>NaN</td>\n",
       "      <td>NaN</td>\n",
       "      <td></td>\n",
       "    </tr>\n",
       "    <tr>\n",
       "      <th>3</th>\n",
       "      <td>Spam</td>\n",
       "      <td>gnctrkcllli, Bonnyfood'dan lezzetli cicekler firsati. Tum urunlerde gecerli 25 .TLlik hediye ceki 1 TL! BONNY yaz 8073'e gonder. SMS ucreti 50krs. GNCTEKLIF.COM</td>\n",
       "      <td>NaN</td>\n",
       "      <td>NaN</td>\n",
       "      <td>NaN</td>\n",
       "      <td>NaN</td>\n",
       "      <td>NaN</td>\n",
       "      <td>NaN</td>\n",
       "    </tr>\n",
       "    <tr>\n",
       "      <th>4</th>\n",
       "      <td>Ham</td>\n",
       "      <td>nerdesin la</td>\n",
       "      <td>NaN</td>\n",
       "      <td>NaN</td>\n",
       "      <td>NaN</td>\n",
       "      <td>NaN</td>\n",
       "      <td>NaN</td>\n",
       "      <td>NaN</td>\n",
       "    </tr>\n",
       "    <tr>\n",
       "      <th>...</th>\n",
       "      <td>...</td>\n",
       "      <td>...</td>\n",
       "      <td>...</td>\n",
       "      <td>...</td>\n",
       "      <td>...</td>\n",
       "      <td>...</td>\n",
       "      <td>...</td>\n",
       "      <td>...</td>\n",
       "    </tr>\n",
       "    <tr>\n",
       "      <th>845</th>\n",
       "      <td>Spam</td>\n",
       "      <td>Kamu 1000 paketine gecerek ayda sadece 45TLye heryonle 1000dk ve 1000smse sahip olabilirsiniz.Bu muhtesem paket icin hemen KAMU yazip 2222ye gonderin</td>\n",
       "      <td>NaN</td>\n",
       "      <td>NaN</td>\n",
       "      <td>NaN</td>\n",
       "      <td>NaN</td>\n",
       "      <td>NaN</td>\n",
       "      <td>NaN</td>\n",
       "    </tr>\n",
       "    <tr>\n",
       "      <th>846</th>\n",
       "      <td>Ham</td>\n",
       "      <td>Canım ya kantine gelebilir misin</td>\n",
       "      <td>NaN</td>\n",
       "      <td>NaN</td>\n",
       "      <td>NaN</td>\n",
       "      <td>NaN</td>\n",
       "      <td>NaN</td>\n",
       "      <td>NaN</td>\n",
       "    </tr>\n",
       "    <tr>\n",
       "      <th>847</th>\n",
       "      <td>Ham</td>\n",
       "      <td>**5992 nolu Kredi Karti Ekstre Borcunuz 1,119.25 TL Asgari Odeme Tutari 247.00 TL ve Son Odeme Tarihi 05.07.2011 dir.</td>\n",
       "      <td>NaN</td>\n",
       "      <td>NaN</td>\n",
       "      <td>NaN</td>\n",
       "      <td>NaN</td>\n",
       "      <td>NaN</td>\n",
       "      <td>NaN</td>\n",
       "    </tr>\n",
       "    <tr>\n",
       "      <th>848</th>\n",
       "      <td>Ham</td>\n",
       "      <td>18/03'de kesilecek, son 4 hanesi 5403 olan kartiniza ait ekstrenize yansiyacak tutar 1132.67 TL 'ye ulasmistir. Kullanilabilir limitiniz 1423.03 TL 'dir.</td>\n",
       "      <td>NaN</td>\n",
       "      <td>NaN</td>\n",
       "      <td>NaN</td>\n",
       "      <td>NaN</td>\n",
       "      <td>NaN</td>\n",
       "      <td>NaN</td>\n",
       "    </tr>\n",
       "    <tr>\n",
       "      <th>849</th>\n",
       "      <td>Spam</td>\n",
       "      <td>Tebrikler! Opet'te akaryakit aliminda harcanabilir 5 TL degerinde Paropuan kazandiniz. Opet istasyonlarinda 15 Temmuz'a kadar puanlarinizi harcayabilirsiniz.</td>\n",
       "      <td>NaN</td>\n",
       "      <td>NaN</td>\n",
       "      <td>NaN</td>\n",
       "      <td>NaN</td>\n",
       "      <td>NaN</td>\n",
       "      <td>NaN</td>\n",
       "    </tr>\n",
       "  </tbody>\n",
       "</table>\n",
       "<p>850 rows × 8 columns</p>\n",
       "</div>"
      ],
      "text/plain": [
       "     Spam  \\\n",
       "0    Spam   \n",
       "1    Spam   \n",
       "2     Ham   \n",
       "3    Spam   \n",
       "4     Ham   \n",
       "..    ...   \n",
       "845  Spam   \n",
       "846   Ham   \n",
       "847   Ham   \n",
       "848   Ham   \n",
       "849  Spam   \n",
       "\n",
       "                                                                                                                                                                                                                                                          V1  \\\n",
       "0                                                                                                                                                                                         \"Mudo Outletlere once gelen kazaniyor_ Mobilya basta olmak uzere \"   \n",
       "1    Yeni Turkcell avantaj paketleriyle yurtdisinda da rahat rahat konusabilirsiniz.Ihtiyaciniza gore sadece 15TLye gunluk 30dk yada 49TLye 1ay boyunca 90dklik konusma paketlerinden size uygun olani almak icin yurtdisina cikmadan mutlaka arayin.4440532   \n",
       "2                                                                                                                                                                                         Cadde üzerinde Yeni site C blok no 3 zilde gokcer ozan tuna yaziyo   \n",
       "3                                                                                           gnctrkcllli, Bonnyfood'dan lezzetli cicekler firsati. Tum urunlerde gecerli 25 .TLlik hediye ceki 1 TL! BONNY yaz 8073'e gonder. SMS ucreti 50krs. GNCTEKLIF.COM   \n",
       "4                                                                                                                                                                                                                                                nerdesin la   \n",
       "..                                                                                                                                                                                                                                                       ...   \n",
       "845                                                                                                    Kamu 1000 paketine gecerek ayda sadece 45TLye heryonle 1000dk ve 1000smse sahip olabilirsiniz.Bu muhtesem paket icin hemen KAMU yazip 2222ye gonderin   \n",
       "846                                                                                                                                                                                                                         Canım ya kantine gelebilir misin   \n",
       "847                                                                                                                                    **5992 nolu Kredi Karti Ekstre Borcunuz 1,119.25 TL Asgari Odeme Tutari 247.00 TL ve Son Odeme Tarihi 05.07.2011 dir.   \n",
       "848                                                                                                18/03'de kesilecek, son 4 hanesi 5403 olan kartiniza ait ekstrenize yansiyacak tutar 1132.67 TL 'ye ulasmistir. Kullanilabilir limitiniz 1423.03 TL 'dir.   \n",
       "849                                                                                            Tebrikler! Opet'te akaryakit aliminda harcanabilir 5 TL degerinde Paropuan kazandiniz. Opet istasyonlarinda 15 Temmuz'a kadar puanlarinizi harcayabilirsiniz.   \n",
       "\n",
       "      F3  F4  F5  F6  F7   F8  \n",
       "0    NaN NaN NaN NaN NaN  NaN  \n",
       "1    NaN NaN NaN NaN NaN  NaN  \n",
       "2    NaN NaN NaN NaN NaN       \n",
       "3    NaN NaN NaN NaN NaN  NaN  \n",
       "4    NaN NaN NaN NaN NaN  NaN  \n",
       "..   ...  ..  ..  ..  ..  ...  \n",
       "845  NaN NaN NaN NaN NaN  NaN  \n",
       "846  NaN NaN NaN NaN NaN  NaN  \n",
       "847  NaN NaN NaN NaN NaN  NaN  \n",
       "848  NaN NaN NaN NaN NaN  NaN  \n",
       "849  NaN NaN NaN NaN NaN  NaN  \n",
       "\n",
       "[850 rows x 8 columns]"
      ]
     },
     "execution_count": 2,
     "metadata": {},
     "output_type": "execute_result"
    }
   ],
   "source": [
    "sms = pd.read_csv('smsturkish.csv',encoding='utf-8')\n",
    "print(sms.shape)\n",
    "pd.set_option('max_colwidth', 800)\n",
    "sms = sms.iloc[:-1]\n",
    "sms"
   ]
  },
  {
   "cell_type": "code",
   "execution_count": 3,
   "metadata": {},
   "outputs": [
    {
     "data": {
      "text/html": [
       "<div>\n",
       "<style scoped>\n",
       "    .dataframe tbody tr th:only-of-type {\n",
       "        vertical-align: middle;\n",
       "    }\n",
       "\n",
       "    .dataframe tbody tr th {\n",
       "        vertical-align: top;\n",
       "    }\n",
       "\n",
       "    .dataframe thead th {\n",
       "        text-align: right;\n",
       "    }\n",
       "</style>\n",
       "<table border=\"1\" class=\"dataframe\">\n",
       "  <thead>\n",
       "    <tr style=\"text-align: right;\">\n",
       "      <th></th>\n",
       "      <th>label</th>\n",
       "      <th>message</th>\n",
       "    </tr>\n",
       "  </thead>\n",
       "  <tbody>\n",
       "    <tr>\n",
       "      <th>0</th>\n",
       "      <td>Spam</td>\n",
       "      <td>\"Mudo Outletlere once gelen kazaniyor_ Mobilya basta olmak uzere \"</td>\n",
       "    </tr>\n",
       "    <tr>\n",
       "      <th>1</th>\n",
       "      <td>Spam</td>\n",
       "      <td>Yeni Turkcell avantaj paketleriyle yurtdisinda da rahat rahat konusabilirsiniz.Ihtiyaciniza gore sadece 15TLye gunluk 30dk yada 49TLye 1ay boyunca 90dklik konusma paketlerinden size uygun olani almak icin yurtdisina cikmadan mutlaka arayin.4440532</td>\n",
       "    </tr>\n",
       "    <tr>\n",
       "      <th>2</th>\n",
       "      <td>Ham</td>\n",
       "      <td>Cadde üzerinde Yeni site C blok no 3 zilde gokcer ozan tuna yaziyo</td>\n",
       "    </tr>\n",
       "    <tr>\n",
       "      <th>3</th>\n",
       "      <td>Spam</td>\n",
       "      <td>gnctrkcllli, Bonnyfood'dan lezzetli cicekler firsati. Tum urunlerde gecerli 25 .TLlik hediye ceki 1 TL! BONNY yaz 8073'e gonder. SMS ucreti 50krs. GNCTEKLIF.COM</td>\n",
       "    </tr>\n",
       "    <tr>\n",
       "      <th>4</th>\n",
       "      <td>Ham</td>\n",
       "      <td>nerdesin la</td>\n",
       "    </tr>\n",
       "    <tr>\n",
       "      <th>...</th>\n",
       "      <td>...</td>\n",
       "      <td>...</td>\n",
       "    </tr>\n",
       "    <tr>\n",
       "      <th>845</th>\n",
       "      <td>Spam</td>\n",
       "      <td>Kamu 1000 paketine gecerek ayda sadece 45TLye heryonle 1000dk ve 1000smse sahip olabilirsiniz.Bu muhtesem paket icin hemen KAMU yazip 2222ye gonderin</td>\n",
       "    </tr>\n",
       "    <tr>\n",
       "      <th>846</th>\n",
       "      <td>Ham</td>\n",
       "      <td>Canım ya kantine gelebilir misin</td>\n",
       "    </tr>\n",
       "    <tr>\n",
       "      <th>847</th>\n",
       "      <td>Ham</td>\n",
       "      <td>**5992 nolu Kredi Karti Ekstre Borcunuz 1,119.25 TL Asgari Odeme Tutari 247.00 TL ve Son Odeme Tarihi 05.07.2011 dir.</td>\n",
       "    </tr>\n",
       "    <tr>\n",
       "      <th>848</th>\n",
       "      <td>Ham</td>\n",
       "      <td>18/03'de kesilecek, son 4 hanesi 5403 olan kartiniza ait ekstrenize yansiyacak tutar 1132.67 TL 'ye ulasmistir. Kullanilabilir limitiniz 1423.03 TL 'dir.</td>\n",
       "    </tr>\n",
       "    <tr>\n",
       "      <th>849</th>\n",
       "      <td>Spam</td>\n",
       "      <td>Tebrikler! Opet'te akaryakit aliminda harcanabilir 5 TL degerinde Paropuan kazandiniz. Opet istasyonlarinda 15 Temmuz'a kadar puanlarinizi harcayabilirsiniz.</td>\n",
       "    </tr>\n",
       "  </tbody>\n",
       "</table>\n",
       "<p>850 rows × 2 columns</p>\n",
       "</div>"
      ],
      "text/plain": [
       "    label  \\\n",
       "0    Spam   \n",
       "1    Spam   \n",
       "2     Ham   \n",
       "3    Spam   \n",
       "4     Ham   \n",
       "..    ...   \n",
       "845  Spam   \n",
       "846   Ham   \n",
       "847   Ham   \n",
       "848   Ham   \n",
       "849  Spam   \n",
       "\n",
       "                                                                                                                                                                                                                                                     message  \n",
       "0                                                                                                                                                                                         \"Mudo Outletlere once gelen kazaniyor_ Mobilya basta olmak uzere \"  \n",
       "1    Yeni Turkcell avantaj paketleriyle yurtdisinda da rahat rahat konusabilirsiniz.Ihtiyaciniza gore sadece 15TLye gunluk 30dk yada 49TLye 1ay boyunca 90dklik konusma paketlerinden size uygun olani almak icin yurtdisina cikmadan mutlaka arayin.4440532  \n",
       "2                                                                                                                                                                                         Cadde üzerinde Yeni site C blok no 3 zilde gokcer ozan tuna yaziyo  \n",
       "3                                                                                           gnctrkcllli, Bonnyfood'dan lezzetli cicekler firsati. Tum urunlerde gecerli 25 .TLlik hediye ceki 1 TL! BONNY yaz 8073'e gonder. SMS ucreti 50krs. GNCTEKLIF.COM  \n",
       "4                                                                                                                                                                                                                                                nerdesin la  \n",
       "..                                                                                                                                                                                                                                                       ...  \n",
       "845                                                                                                    Kamu 1000 paketine gecerek ayda sadece 45TLye heryonle 1000dk ve 1000smse sahip olabilirsiniz.Bu muhtesem paket icin hemen KAMU yazip 2222ye gonderin  \n",
       "846                                                                                                                                                                                                                         Canım ya kantine gelebilir misin  \n",
       "847                                                                                                                                    **5992 nolu Kredi Karti Ekstre Borcunuz 1,119.25 TL Asgari Odeme Tutari 247.00 TL ve Son Odeme Tarihi 05.07.2011 dir.  \n",
       "848                                                                                                18/03'de kesilecek, son 4 hanesi 5403 olan kartiniza ait ekstrenize yansiyacak tutar 1132.67 TL 'ye ulasmistir. Kullanilabilir limitiniz 1423.03 TL 'dir.  \n",
       "849                                                                                            Tebrikler! Opet'te akaryakit aliminda harcanabilir 5 TL degerinde Paropuan kazandiniz. Opet istasyonlarinda 15 Temmuz'a kadar puanlarinizi harcayabilirsiniz.  \n",
       "\n",
       "[850 rows x 2 columns]"
      ]
     },
     "execution_count": 3,
     "metadata": {},
     "output_type": "execute_result"
    }
   ],
   "source": [
    "sms.drop(columns=['F3', 'F4', 'F5','F6','F7','F8'],inplace=True)\n",
    "sms.rename(columns= {'Spam':'label','V1':'message'},inplace=True)\n",
    "sms"
   ]
  },
  {
   "cell_type": "code",
   "execution_count": 4,
   "metadata": {},
   "outputs": [
    {
     "data": {
      "text/plain": [
       "Ham     430\n",
       "Spam    420\n",
       "Name: label, dtype: int64"
      ]
     },
     "execution_count": 4,
     "metadata": {},
     "output_type": "execute_result"
    }
   ],
   "source": [
    "sms.label.value_counts()"
   ]
  },
  {
   "cell_type": "code",
   "execution_count": 5,
   "metadata": {},
   "outputs": [
    {
     "data": {
      "image/png": "[encoded data removed]",
      "text/plain": [
       "<Figure size 432x288 with 1 Axes>"
      ]
     },
     "metadata": {
      "needs_background": "light"
     },
     "output_type": "display_data"
    }
   ],
   "source": [
    "sms.label.value_counts().plot(kind = 'bar', color = ['blue','red'])\n",
    "plt.title('Turkish Ham Spam counts')\n",
    "plt.show()"
   ]
  },
  {
   "cell_type": "code",
   "execution_count": 6,
   "metadata": {},
   "outputs": [
    {
     "data": {
      "text/html": [
       "<div>\n",
       "<style scoped>\n",
       "    .dataframe tbody tr th:only-of-type {\n",
       "        vertical-align: middle;\n",
       "    }\n",
       "\n",
       "    .dataframe tbody tr th {\n",
       "        vertical-align: top;\n",
       "    }\n",
       "\n",
       "    .dataframe thead th {\n",
       "        text-align: right;\n",
       "    }\n",
       "</style>\n",
       "<table border=\"1\" class=\"dataframe\">\n",
       "  <thead>\n",
       "    <tr style=\"text-align: right;\">\n",
       "      <th></th>\n",
       "      <th>label</th>\n",
       "      <th>message</th>\n",
       "      <th>lowerCaseMessage</th>\n",
       "    </tr>\n",
       "  </thead>\n",
       "  <tbody>\n",
       "    <tr>\n",
       "      <th>0</th>\n",
       "      <td>Spam</td>\n",
       "      <td>\"Mudo Outletlere once gelen kazaniyor_ Mobilya basta olmak uzere \"</td>\n",
       "      <td>\"mudo outletlere once gelen kazaniyor_ mobilya basta olmak uzere \"</td>\n",
       "    </tr>\n",
       "    <tr>\n",
       "      <th>1</th>\n",
       "      <td>Spam</td>\n",
       "      <td>Yeni Turkcell avantaj paketleriyle yurtdisinda da rahat rahat konusabilirsiniz.Ihtiyaciniza gore sadece 15TLye gunluk 30dk yada 49TLye 1ay boyunca 90dklik konusma paketlerinden size uygun olani almak icin yurtdisina cikmadan mutlaka arayin.4440532</td>\n",
       "      <td>yeni turkcell avantaj paketleriyle yurtdisinda da rahat rahat konusabilirsiniz.ihtiyaciniza gore sadece 15tlye gunluk 30dk yada 49tlye 1ay boyunca 90dklik konusma paketlerinden size uygun olani almak icin yurtdisina cikmadan mutlaka arayin.4440532</td>\n",
       "    </tr>\n",
       "    <tr>\n",
       "      <th>2</th>\n",
       "      <td>Ham</td>\n",
       "      <td>Cadde üzerinde Yeni site C blok no 3 zilde gokcer ozan tuna yaziyo</td>\n",
       "      <td>cadde üzerinde yeni site c blok no 3 zilde gokcer ozan tuna yaziyo</td>\n",
       "    </tr>\n",
       "    <tr>\n",
       "      <th>3</th>\n",
       "      <td>Spam</td>\n",
       "      <td>gnctrkcllli, Bonnyfood'dan lezzetli cicekler firsati. Tum urunlerde gecerli 25 .TLlik hediye ceki 1 TL! BONNY yaz 8073'e gonder. SMS ucreti 50krs. GNCTEKLIF.COM</td>\n",
       "      <td>gnctrkcllli, bonnyfood'dan lezzetli cicekler firsati. tum urunlerde gecerli 25 .tllik hediye ceki 1 tl! bonny yaz 8073'e gonder. sms ucreti 50krs. gncteklif.com</td>\n",
       "    </tr>\n",
       "    <tr>\n",
       "      <th>4</th>\n",
       "      <td>Ham</td>\n",
       "      <td>nerdesin la</td>\n",
       "      <td>nerdesin la</td>\n",
       "    </tr>\n",
       "    <tr>\n",
       "      <th>...</th>\n",
       "      <td>...</td>\n",
       "      <td>...</td>\n",
       "      <td>...</td>\n",
       "    </tr>\n",
       "    <tr>\n",
       "      <th>845</th>\n",
       "      <td>Spam</td>\n",
       "      <td>Kamu 1000 paketine gecerek ayda sadece 45TLye heryonle 1000dk ve 1000smse sahip olabilirsiniz.Bu muhtesem paket icin hemen KAMU yazip 2222ye gonderin</td>\n",
       "      <td>kamu 1000 paketine gecerek ayda sadece 45tlye heryonle 1000dk ve 1000smse sahip olabilirsiniz.bu muhtesem paket icin hemen kamu yazip 2222ye gonderin</td>\n",
       "    </tr>\n",
       "    <tr>\n",
       "      <th>846</th>\n",
       "      <td>Ham</td>\n",
       "      <td>Canım ya kantine gelebilir misin</td>\n",
       "      <td>canım ya kantine gelebilir misin</td>\n",
       "    </tr>\n",
       "    <tr>\n",
       "      <th>847</th>\n",
       "      <td>Ham</td>\n",
       "      <td>**5992 nolu Kredi Karti Ekstre Borcunuz 1,119.25 TL Asgari Odeme Tutari 247.00 TL ve Son Odeme Tarihi 05.07.2011 dir.</td>\n",
       "      <td>**5992 nolu kredi karti ekstre borcunuz 1,119.25 tl asgari odeme tutari 247.00 tl ve son odeme tarihi 05.07.2011 dir.</td>\n",
       "    </tr>\n",
       "    <tr>\n",
       "      <th>848</th>\n",
       "      <td>Ham</td>\n",
       "      <td>18/03'de kesilecek, son 4 hanesi 5403 olan kartiniza ait ekstrenize yansiyacak tutar 1132.67 TL 'ye ulasmistir. Kullanilabilir limitiniz 1423.03 TL 'dir.</td>\n",
       "      <td>18/03'de kesilecek, son 4 hanesi 5403 olan kartiniza ait ekstrenize yansiyacak tutar 1132.67 tl 'ye ulasmistir. kullanilabilir limitiniz 1423.03 tl 'dir.</td>\n",
       "    </tr>\n",
       "    <tr>\n",
       "      <th>849</th>\n",
       "      <td>Spam</td>\n",
       "      <td>Tebrikler! Opet'te akaryakit aliminda harcanabilir 5 TL degerinde Paropuan kazandiniz. Opet istasyonlarinda 15 Temmuz'a kadar puanlarinizi harcayabilirsiniz.</td>\n",
       "      <td>tebrikler! opet'te akaryakit aliminda harcanabilir 5 tl degerinde paropuan kazandiniz. opet istasyonlarinda 15 temmuz'a kadar puanlarinizi harcayabilirsiniz.</td>\n",
       "    </tr>\n",
       "  </tbody>\n",
       "</table>\n",
       "<p>850 rows × 3 columns</p>\n",
       "</div>"
      ],
      "text/plain": [
       "    label  \\\n",
       "0    Spam   \n",
       "1    Spam   \n",
       "2     Ham   \n",
       "3    Spam   \n",
       "4     Ham   \n",
       "..    ...   \n",
       "845  Spam   \n",
       "846   Ham   \n",
       "847   Ham   \n",
       "848   Ham   \n",
       "849  Spam   \n",
       "\n",
       "                                                                                                                                                                                                                                                     message  \\\n",
       "0                                                                                                                                                                                         \"Mudo Outletlere once gelen kazaniyor_ Mobilya basta olmak uzere \"   \n",
       "1    Yeni Turkcell avantaj paketleriyle yurtdisinda da rahat rahat konusabilirsiniz.Ihtiyaciniza gore sadece 15TLye gunluk 30dk yada 49TLye 1ay boyunca 90dklik konusma paketlerinden size uygun olani almak icin yurtdisina cikmadan mutlaka arayin.4440532   \n",
       "2                                                                                                                                                                                         Cadde üzerinde Yeni site C blok no 3 zilde gokcer ozan tuna yaziyo   \n",
       "3                                                                                           gnctrkcllli, Bonnyfood'dan lezzetli cicekler firsati. Tum urunlerde gecerli 25 .TLlik hediye ceki 1 TL! BONNY yaz 8073'e gonder. SMS ucreti 50krs. GNCTEKLIF.COM   \n",
       "4                                                                                                                                                                                                                                                nerdesin la   \n",
       "..                                                                                                                                                                                                                                                       ...   \n",
       "845                                                                                                    Kamu 1000 paketine gecerek ayda sadece 45TLye heryonle 1000dk ve 1000smse sahip olabilirsiniz.Bu muhtesem paket icin hemen KAMU yazip 2222ye gonderin   \n",
       "846                                                                                                                                                                                                                         Canım ya kantine gelebilir misin   \n",
       "847                                                                                                                                    **5992 nolu Kredi Karti Ekstre Borcunuz 1,119.25 TL Asgari Odeme Tutari 247.00 TL ve Son Odeme Tarihi 05.07.2011 dir.   \n",
       "848                                                                                                18/03'de kesilecek, son 4 hanesi 5403 olan kartiniza ait ekstrenize yansiyacak tutar 1132.67 TL 'ye ulasmistir. Kullanilabilir limitiniz 1423.03 TL 'dir.   \n",
       "849                                                                                            Tebrikler! Opet'te akaryakit aliminda harcanabilir 5 TL degerinde Paropuan kazandiniz. Opet istasyonlarinda 15 Temmuz'a kadar puanlarinizi harcayabilirsiniz.   \n",
       "\n",
       "                                                                                                                                                                                                                                            lowerCaseMessage  \n",
       "0                                                                                                                                                                                         \"mudo outletlere once gelen kazaniyor_ mobilya basta olmak uzere \"  \n",
       "1    yeni turkcell avantaj paketleriyle yurtdisinda da rahat rahat konusabilirsiniz.ihtiyaciniza gore sadece 15tlye gunluk 30dk yada 49tlye 1ay boyunca 90dklik konusma paketlerinden size uygun olani almak icin yurtdisina cikmadan mutlaka arayin.4440532  \n",
       "2                                                                                                                                                                                         cadde üzerinde yeni site c blok no 3 zilde gokcer ozan tuna yaziyo  \n",
       "3                                                                                           gnctrkcllli, bonnyfood'dan lezzetli cicekler firsati. tum urunlerde gecerli 25 .tllik hediye ceki 1 tl! bonny yaz 8073'e gonder. sms ucreti 50krs. gncteklif.com  \n",
       "4                                                                                                                                                                                                                                                nerdesin la  \n",
       "..                                                                                                                                                                                                                                                       ...  \n",
       "845                                                                                                    kamu 1000 paketine gecerek ayda sadece 45tlye heryonle 1000dk ve 1000smse sahip olabilirsiniz.bu muhtesem paket icin hemen kamu yazip 2222ye gonderin  \n",
       "846                                                                                                                                                                                                                         canım ya kantine gelebilir misin  \n",
       "847                                                                                                                                    **5992 nolu kredi karti ekstre borcunuz 1,119.25 tl asgari odeme tutari 247.00 tl ve son odeme tarihi 05.07.2011 dir.  \n",
       "848                                                                                                18/03'de kesilecek, son 4 hanesi 5403 olan kartiniza ait ekstrenize yansiyacak tutar 1132.67 tl 'ye ulasmistir. kullanilabilir limitiniz 1423.03 tl 'dir.  \n",
       "849                                                                                            tebrikler! opet'te akaryakit aliminda harcanabilir 5 tl degerinde paropuan kazandiniz. opet istasyonlarinda 15 temmuz'a kadar puanlarinizi harcayabilirsiniz.  \n",
       "\n",
       "[850 rows x 3 columns]"
      ]
     },
     "execution_count": 6,
     "metadata": {},
     "output_type": "execute_result"
    }
   ],
   "source": [
    "# Transform message into lower case\n",
    "sms[\"lowerCaseMessage\"] = sms[\"message\"].str.lower()\n",
    "sms"
   ]
  },
  {
   "cell_type": "code",
   "execution_count": 7,
   "metadata": {},
   "outputs": [],
   "source": [
    "# Remove http, www, .com, email adress, link, punctuation and digit\n",
    "\n",
    "def preProcessing(text):\n",
    "    return removePunc(removeDigits(removeEmail(remove_com_tr(removeLink(text)))))\n",
    "\n",
    "def removeLink(text):\n",
    "    return re.sub(r\"((http\\S+)|(www\\S+))\", \"\", str(text))\n",
    "\n",
    "def remove_com_tr(text):\n",
    "    text = re.sub(r'\\S*\\.(com|tr)',\"\",str(text))\n",
    "    return text\n",
    "\n",
    "def removeEmail(text):\n",
    "    return re.sub(r'([.\\w]{3,}@[.\\w]{5,})', '', str(text))\n",
    "\n",
    "def removeDigits(text):\n",
    "    text = text.strip()  #removing whitespaces from text\n",
    "    remove_digits = str.maketrans('', '', digits)\n",
    "    return text.translate(remove_digits)\n",
    "\n",
    "def removePunc(text):\n",
    "    regex = re.compile('[%s]' % re.escape(punctuation))\n",
    "    return regex.sub('', text)"
   ]
  },
  {
   "cell_type": "code",
   "execution_count": 8,
   "metadata": {},
   "outputs": [
    {
     "data": {
      "text/html": [
       "<div>\n",
       "<style scoped>\n",
       "    .dataframe tbody tr th:only-of-type {\n",
       "        vertical-align: middle;\n",
       "    }\n",
       "\n",
       "    .dataframe tbody tr th {\n",
       "        vertical-align: top;\n",
       "    }\n",
       "\n",
       "    .dataframe thead th {\n",
       "        text-align: right;\n",
       "    }\n",
       "</style>\n",
       "<table border=\"1\" class=\"dataframe\">\n",
       "  <thead>\n",
       "    <tr style=\"text-align: right;\">\n",
       "      <th></th>\n",
       "      <th>label</th>\n",
       "      <th>message</th>\n",
       "      <th>lowerCaseMessage</th>\n",
       "      <th>cleanedMessage</th>\n",
       "    </tr>\n",
       "  </thead>\n",
       "  <tbody>\n",
       "    <tr>\n",
       "      <th>0</th>\n",
       "      <td>Spam</td>\n",
       "      <td>\"Mudo Outletlere once gelen kazaniyor_ Mobilya basta olmak uzere \"</td>\n",
       "      <td>\"mudo outletlere once gelen kazaniyor_ mobilya basta olmak uzere \"</td>\n",
       "      <td>mudo outletlere once gelen kazaniyor mobilya basta olmak uzere</td>\n",
       "    </tr>\n",
       "    <tr>\n",
       "      <th>1</th>\n",
       "      <td>Spam</td>\n",
       "      <td>Yeni Turkcell avantaj paketleriyle yurtdisinda da rahat rahat konusabilirsiniz.Ihtiyaciniza gore sadece 15TLye gunluk 30dk yada 49TLye 1ay boyunca 90dklik konusma paketlerinden size uygun olani almak icin yurtdisina cikmadan mutlaka arayin.4440532</td>\n",
       "      <td>yeni turkcell avantaj paketleriyle yurtdisinda da rahat rahat konusabilirsiniz.ihtiyaciniza gore sadece 15tlye gunluk 30dk yada 49tlye 1ay boyunca 90dklik konusma paketlerinden size uygun olani almak icin yurtdisina cikmadan mutlaka arayin.4440532</td>\n",
       "      <td>yeni turkcell avantaj paketleriyle yurtdisinda da rahat rahat konusabilirsinizihtiyaciniza gore sadece tlye gunluk dk yada tlye ay boyunca dklik konusma paketlerinden size uygun olani almak icin yurtdisina cikmadan mutlaka arayin</td>\n",
       "    </tr>\n",
       "    <tr>\n",
       "      <th>2</th>\n",
       "      <td>Ham</td>\n",
       "      <td>Cadde üzerinde Yeni site C blok no 3 zilde gokcer ozan tuna yaziyo</td>\n",
       "      <td>cadde üzerinde yeni site c blok no 3 zilde gokcer ozan tuna yaziyo</td>\n",
       "      <td>cadde üzerinde yeni site c blok no  zilde gokcer ozan tuna yaziyo</td>\n",
       "    </tr>\n",
       "    <tr>\n",
       "      <th>3</th>\n",
       "      <td>Spam</td>\n",
       "      <td>gnctrkcllli, Bonnyfood'dan lezzetli cicekler firsati. Tum urunlerde gecerli 25 .TLlik hediye ceki 1 TL! BONNY yaz 8073'e gonder. SMS ucreti 50krs. GNCTEKLIF.COM</td>\n",
       "      <td>gnctrkcllli, bonnyfood'dan lezzetli cicekler firsati. tum urunlerde gecerli 25 .tllik hediye ceki 1 tl! bonny yaz 8073'e gonder. sms ucreti 50krs. gncteklif.com</td>\n",
       "      <td>gnctrkcllli bonnyfooddan lezzetli cicekler firsati tum urunlerde gecerli  tllik hediye ceki  tl bonny yaz e gonder sms ucreti krs</td>\n",
       "    </tr>\n",
       "    <tr>\n",
       "      <th>4</th>\n",
       "      <td>Ham</td>\n",
       "      <td>nerdesin la</td>\n",
       "      <td>nerdesin la</td>\n",
       "      <td>nerdesin la</td>\n",
       "    </tr>\n",
       "    <tr>\n",
       "      <th>...</th>\n",
       "      <td>...</td>\n",
       "      <td>...</td>\n",
       "      <td>...</td>\n",
       "      <td>...</td>\n",
       "    </tr>\n",
       "    <tr>\n",
       "      <th>845</th>\n",
       "      <td>Spam</td>\n",
       "      <td>Kamu 1000 paketine gecerek ayda sadece 45TLye heryonle 1000dk ve 1000smse sahip olabilirsiniz.Bu muhtesem paket icin hemen KAMU yazip 2222ye gonderin</td>\n",
       "      <td>kamu 1000 paketine gecerek ayda sadece 45tlye heryonle 1000dk ve 1000smse sahip olabilirsiniz.bu muhtesem paket icin hemen kamu yazip 2222ye gonderin</td>\n",
       "      <td>kamu  paketine gecerek ayda sadece tlye heryonle dk ve smse sahip olabilirsinizbu muhtesem paket icin hemen kamu yazip ye gonderin</td>\n",
       "    </tr>\n",
       "    <tr>\n",
       "      <th>846</th>\n",
       "      <td>Ham</td>\n",
       "      <td>Canım ya kantine gelebilir misin</td>\n",
       "      <td>canım ya kantine gelebilir misin</td>\n",
       "      <td>canım ya kantine gelebilir misin</td>\n",
       "    </tr>\n",
       "    <tr>\n",
       "      <th>847</th>\n",
       "      <td>Ham</td>\n",
       "      <td>**5992 nolu Kredi Karti Ekstre Borcunuz 1,119.25 TL Asgari Odeme Tutari 247.00 TL ve Son Odeme Tarihi 05.07.2011 dir.</td>\n",
       "      <td>**5992 nolu kredi karti ekstre borcunuz 1,119.25 tl asgari odeme tutari 247.00 tl ve son odeme tarihi 05.07.2011 dir.</td>\n",
       "      <td>nolu kredi karti ekstre borcunuz  tl asgari odeme tutari  tl ve son odeme tarihi  dir</td>\n",
       "    </tr>\n",
       "    <tr>\n",
       "      <th>848</th>\n",
       "      <td>Ham</td>\n",
       "      <td>18/03'de kesilecek, son 4 hanesi 5403 olan kartiniza ait ekstrenize yansiyacak tutar 1132.67 TL 'ye ulasmistir. Kullanilabilir limitiniz 1423.03 TL 'dir.</td>\n",
       "      <td>18/03'de kesilecek, son 4 hanesi 5403 olan kartiniza ait ekstrenize yansiyacak tutar 1132.67 tl 'ye ulasmistir. kullanilabilir limitiniz 1423.03 tl 'dir.</td>\n",
       "      <td>de kesilecek son  hanesi  olan kartiniza ait ekstrenize yansiyacak tutar  tl ye ulasmistir kullanilabilir limitiniz  tl dir</td>\n",
       "    </tr>\n",
       "    <tr>\n",
       "      <th>849</th>\n",
       "      <td>Spam</td>\n",
       "      <td>Tebrikler! Opet'te akaryakit aliminda harcanabilir 5 TL degerinde Paropuan kazandiniz. Opet istasyonlarinda 15 Temmuz'a kadar puanlarinizi harcayabilirsiniz.</td>\n",
       "      <td>tebrikler! opet'te akaryakit aliminda harcanabilir 5 tl degerinde paropuan kazandiniz. opet istasyonlarinda 15 temmuz'a kadar puanlarinizi harcayabilirsiniz.</td>\n",
       "      <td>tebrikler opette akaryakit aliminda harcanabilir  tl degerinde paropuan kazandiniz opet istasyonlarinda  temmuza kadar puanlarinizi harcayabilirsiniz</td>\n",
       "    </tr>\n",
       "  </tbody>\n",
       "</table>\n",
       "<p>850 rows × 4 columns</p>\n",
       "</div>"
      ],
      "text/plain": [
       "    label  \\\n",
       "0    Spam   \n",
       "1    Spam   \n",
       "2     Ham   \n",
       "3    Spam   \n",
       "4     Ham   \n",
       "..    ...   \n",
       "845  Spam   \n",
       "846   Ham   \n",
       "847   Ham   \n",
       "848   Ham   \n",
       "849  Spam   \n",
       "\n",
       "                                                                                                                                                                                                                                                     message  \\\n",
       "0                                                                                                                                                                                         \"Mudo Outletlere once gelen kazaniyor_ Mobilya basta olmak uzere \"   \n",
       "1    Yeni Turkcell avantaj paketleriyle yurtdisinda da rahat rahat konusabilirsiniz.Ihtiyaciniza gore sadece 15TLye gunluk 30dk yada 49TLye 1ay boyunca 90dklik konusma paketlerinden size uygun olani almak icin yurtdisina cikmadan mutlaka arayin.4440532   \n",
       "2                                                                                                                                                                                         Cadde üzerinde Yeni site C blok no 3 zilde gokcer ozan tuna yaziyo   \n",
       "3                                                                                           gnctrkcllli, Bonnyfood'dan lezzetli cicekler firsati. Tum urunlerde gecerli 25 .TLlik hediye ceki 1 TL! BONNY yaz 8073'e gonder. SMS ucreti 50krs. GNCTEKLIF.COM   \n",
       "4                                                                                                                                                                                                                                                nerdesin la   \n",
       "..                                                                                                                                                                                                                                                       ...   \n",
       "845                                                                                                    Kamu 1000 paketine gecerek ayda sadece 45TLye heryonle 1000dk ve 1000smse sahip olabilirsiniz.Bu muhtesem paket icin hemen KAMU yazip 2222ye gonderin   \n",
       "846                                                                                                                                                                                                                         Canım ya kantine gelebilir misin   \n",
       "847                                                                                                                                    **5992 nolu Kredi Karti Ekstre Borcunuz 1,119.25 TL Asgari Odeme Tutari 247.00 TL ve Son Odeme Tarihi 05.07.2011 dir.   \n",
       "848                                                                                                18/03'de kesilecek, son 4 hanesi 5403 olan kartiniza ait ekstrenize yansiyacak tutar 1132.67 TL 'ye ulasmistir. Kullanilabilir limitiniz 1423.03 TL 'dir.   \n",
       "849                                                                                            Tebrikler! Opet'te akaryakit aliminda harcanabilir 5 TL degerinde Paropuan kazandiniz. Opet istasyonlarinda 15 Temmuz'a kadar puanlarinizi harcayabilirsiniz.   \n",
       "\n",
       "                                                                                                                                                                                                                                            lowerCaseMessage  \\\n",
       "0                                                                                                                                                                                         \"mudo outletlere once gelen kazaniyor_ mobilya basta olmak uzere \"   \n",
       "1    yeni turkcell avantaj paketleriyle yurtdisinda da rahat rahat konusabilirsiniz.ihtiyaciniza gore sadece 15tlye gunluk 30dk yada 49tlye 1ay boyunca 90dklik konusma paketlerinden size uygun olani almak icin yurtdisina cikmadan mutlaka arayin.4440532   \n",
       "2                                                                                                                                                                                         cadde üzerinde yeni site c blok no 3 zilde gokcer ozan tuna yaziyo   \n",
       "3                                                                                           gnctrkcllli, bonnyfood'dan lezzetli cicekler firsati. tum urunlerde gecerli 25 .tllik hediye ceki 1 tl! bonny yaz 8073'e gonder. sms ucreti 50krs. gncteklif.com   \n",
       "4                                                                                                                                                                                                                                                nerdesin la   \n",
       "..                                                                                                                                                                                                                                                       ...   \n",
       "845                                                                                                    kamu 1000 paketine gecerek ayda sadece 45tlye heryonle 1000dk ve 1000smse sahip olabilirsiniz.bu muhtesem paket icin hemen kamu yazip 2222ye gonderin   \n",
       "846                                                                                                                                                                                                                         canım ya kantine gelebilir misin   \n",
       "847                                                                                                                                    **5992 nolu kredi karti ekstre borcunuz 1,119.25 tl asgari odeme tutari 247.00 tl ve son odeme tarihi 05.07.2011 dir.   \n",
       "848                                                                                                18/03'de kesilecek, son 4 hanesi 5403 olan kartiniza ait ekstrenize yansiyacak tutar 1132.67 tl 'ye ulasmistir. kullanilabilir limitiniz 1423.03 tl 'dir.   \n",
       "849                                                                                            tebrikler! opet'te akaryakit aliminda harcanabilir 5 tl degerinde paropuan kazandiniz. opet istasyonlarinda 15 temmuz'a kadar puanlarinizi harcayabilirsiniz.   \n",
       "\n",
       "                                                                                                                                                                                                                            cleanedMessage  \n",
       "0                                                                                                                                                                          mudo outletlere once gelen kazaniyor mobilya basta olmak uzere   \n",
       "1    yeni turkcell avantaj paketleriyle yurtdisinda da rahat rahat konusabilirsinizihtiyaciniza gore sadece tlye gunluk dk yada tlye ay boyunca dklik konusma paketlerinden size uygun olani almak icin yurtdisina cikmadan mutlaka arayin  \n",
       "2                                                                                                                                                                        cadde üzerinde yeni site c blok no  zilde gokcer ozan tuna yaziyo  \n",
       "3                                                                                                        gnctrkcllli bonnyfooddan lezzetli cicekler firsati tum urunlerde gecerli  tllik hediye ceki  tl bonny yaz e gonder sms ucreti krs  \n",
       "4                                                                                                                                                                                                                              nerdesin la  \n",
       "..                                                                                                                                                                                                                                     ...  \n",
       "845                                                                                                     kamu  paketine gecerek ayda sadece tlye heryonle dk ve smse sahip olabilirsinizbu muhtesem paket icin hemen kamu yazip ye gonderin  \n",
       "846                                                                                                                                                                                                       canım ya kantine gelebilir misin  \n",
       "847                                                                                                                                                  nolu kredi karti ekstre borcunuz  tl asgari odeme tutari  tl ve son odeme tarihi  dir  \n",
       "848                                                                                                            de kesilecek son  hanesi  olan kartiniza ait ekstrenize yansiyacak tutar  tl ye ulasmistir kullanilabilir limitiniz  tl dir  \n",
       "849                                                                                  tebrikler opette akaryakit aliminda harcanabilir  tl degerinde paropuan kazandiniz opet istasyonlarinda  temmuza kadar puanlarinizi harcayabilirsiniz  \n",
       "\n",
       "[850 rows x 4 columns]"
      ]
     },
     "execution_count": 8,
     "metadata": {},
     "output_type": "execute_result"
    }
   ],
   "source": [
    "sms[\"cleanedMessage\"] = sms['lowerCaseMessage'].map(preProcessing)\n",
    "sms"
   ]
  },
  {
   "cell_type": "code",
   "execution_count": 9,
   "metadata": {},
   "outputs": [],
   "source": [
    "#Create Train Test Split\n",
    "X = sms[\"cleanedMessage\"]\n",
    "\n",
    "y = sms['label'].map( {'Spam': 1, 'Ham': 0} )\n",
    "\n",
    "X_train, X_test, y_train, y_test = train_test_split(X, y, test_size=0.20, random_state=42)\n",
    "\n",
    "vectorizer = CountVectorizer()\n",
    "vectorizer.fit(X_train)\n",
    "\n",
    "X_train = vectorizer.transform(X_train)\n",
    "X_test  = vectorizer.transform(X_test)"
   ]
  },
  {
   "cell_type": "code",
   "execution_count": 10,
   "metadata": {},
   "outputs": [
    {
     "name": "stdout",
     "output_type": "stream",
     "text": [
      "Training Accuracy: 0.9720588235294118\n",
      "\n",
      "Testing Accuracy: 0.7352941176470589\n",
      "Precision score:  0.7385037348272642\n",
      "Recall score:     0.7352941176470589\n",
      "F1 score:         0.7337709626134674\n"
     ]
    }
   ],
   "source": [
    "# K-Neighbors Classifier\n",
    "kneighbors = KNeighborsClassifier(n_neighbors = 3, metric = 'minkowski', p = 2)\n",
    "kneighbors.fit(X_train, y_train)\n",
    "\n",
    "print(\"Training Accuracy:\", kneighbors.score(X_train, y_train))\n",
    "\n",
    "predict_knn = kneighbors.predict(X_test)\n",
    "\n",
    "print('\\nTesting Accuracy:', accuracy_score(y_test, predict_knn))\n",
    "print('Precision score: ', precision_score(y_test, predict_knn, average='weighted'))\n",
    "print('Recall score:    ', recall_score(y_test, predict_knn, average='weighted'))\n",
    "print('F1 score:        ', f1_score(y_test, predict_knn, average='weighted'))"
   ]
  },
  {
   "cell_type": "code",
   "execution_count": 11,
   "metadata": {},
   "outputs": [
    {
     "name": "stdout",
     "output_type": "stream",
     "text": [
      "[0.70512821 0.8490566  0.68681319 0.68527919 0.65989848 0.75144509\n",
      " 0.69364162 0.68292683 0.63451777 0.63291139] \n",
      "\n",
      "Average cross-validation F-beta score: 0.6981618354062726\n"
     ]
    }
   ],
   "source": [
    "#cross validation for KNN\n",
    "fbeta_scorer = make_scorer(fbeta_score, beta = 0.5)\n",
    "\n",
    "def validation_score(model_name):\n",
    "    scores = cross_val_score(model_name, X_train, y_train, cv=10, scoring=fbeta_scorer) \n",
    "    return scores\n",
    "\n",
    "kneighbors_val_score = validation_score(kneighbors)\n",
    "print(kneighbors_val_score, \"\\n\")\n",
    "print(\"Average cross-validation F-beta score:\", kneighbors_val_score.mean())"
   ]
  },
  {
   "cell_type": "code",
   "execution_count": 12,
   "metadata": {},
   "outputs": [
    {
     "name": "stdout",
     "output_type": "stream",
     "text": [
      "Training Accuracy: 0.9985294117647059\n",
      "\n",
      "Testing Accuracy: 0.9470588235294117\n",
      "Precision score:  0.9476597615790501\n",
      "Recall score:     0.9470588235294117\n",
      "F1 score:         0.9470643193434335\n"
     ]
    }
   ],
   "source": [
    "# Random Forest\n",
    "randFor = RandomForestClassifier()\n",
    "randFor.fit(X_train, y_train)\n",
    "\n",
    "print(\"Training Accuracy:\", randFor.score(X_train, y_train))\n",
    "\n",
    "predict_rf = randFor.predict(X_test)\n",
    "\n",
    "print('\\nTesting Accuracy:', accuracy_score(y_test, predict_rf))\n",
    "print('Precision score: ', precision_score(y_test, predict_rf, average='weighted'))\n",
    "print('Recall score:    ', recall_score(y_test, predict_rf, average='weighted'))\n",
    "print('F1 score:        ', f1_score(y_test, predict_rf, average='weighted'))"
   ]
  },
  {
   "cell_type": "code",
   "execution_count": 63,
   "metadata": {},
   "outputs": [
    {
     "name": "stdout",
     "output_type": "stream",
     "text": [
      "[0.98765432 0.96385542 0.9939759  0.98726115 0.96273292 0.98039216\n",
      " 0.94771242 0.96273292 0.96969697 0.92356688] \n",
      "\n",
      "Average cross-validation F-beta score: 0.967958105513625\n"
     ]
    }
   ],
   "source": [
    "#cross validation for Random Forest\n",
    "randFor_val_score = validation_score(randFor)\n",
    "print(randFor_val_score, \"\\n\")\n",
    "print(\"Average cross-validation F-beta score:\", randFor_val_score.mean())"
   ]
  },
  {
   "cell_type": "code",
   "execution_count": 64,
   "metadata": {},
   "outputs": [
    {
     "name": "stdout",
     "output_type": "stream",
     "text": [
      "Training Accuracy: 0.9911764705882353\n",
      "\n",
      "Testing Accuracy: 0.9411764705882353\n",
      "Precision score:  0.942219180983569\n",
      "Recall score:     0.9411764705882353\n",
      "F1 score:         0.9411764705882353\n"
     ]
    }
   ],
   "source": [
    "# Logistic Regression\n",
    "logReg = LogisticRegression()\n",
    "logReg.fit(X_train, y_train)\n",
    "\n",
    "print(\"Training Accuracy:\", logReg.score(X_train, y_train))\n",
    "\n",
    "predict_lg = logReg.predict(X_test)\n",
    "\n",
    "print('\\nTesting Accuracy:', accuracy_score(y_test, predict_lg))\n",
    "print('Precision score: ', precision_score(y_test, predict_lg, average='weighted'))\n",
    "print('Recall score:    ', recall_score(y_test, predict_lg, average='weighted'))\n",
    "print('F1 score:        ', f1_score(y_test, predict_lg, average='weighted'))"
   ]
  },
  {
   "cell_type": "code",
   "execution_count": 65,
   "metadata": {},
   "outputs": [
    {
     "name": "stdout",
     "output_type": "stream",
     "text": [
      "[0.98765432 0.94936709 1.         0.98726115 0.98726115 0.98039216\n",
      " 0.93959732 0.97315436 0.96969697 0.94771242] \n",
      "\n",
      "Average cross-validation F-beta score: 0.9722096925301595\n"
     ]
    }
   ],
   "source": [
    "#cross validation for Logistic Regression\n",
    "logReg_val_score = validation_score(logReg)\n",
    "print(logReg_val_score, \"\\n\")\n",
    "print(\"Average cross-validation F-beta score:\", logReg_val_score.mean())"
   ]
  },
  {
   "cell_type": "code",
   "execution_count": 66,
   "metadata": {},
   "outputs": [
    {
     "name": "stdout",
     "output_type": "stream",
     "text": [
      "Training Accuracy: 0.9955882352941177\n",
      "\n",
      "Testing Accuracy: 0.9411764705882353\n",
      "Precision score:  0.9472407519708915\n",
      "Recall score:     0.9411764705882353\n",
      "F1 score:         0.940889566528953\n"
     ]
    }
   ],
   "source": [
    "#fitting a Multinomial Naive Bayes Classifier Model \n",
    "naive_bayes = MultinomialNB()\n",
    "naive_bayes.fit(X_train, y_train)\n",
    "\n",
    "print(\"Training Accuracy:\", naive_bayes.score(X_train, y_train))\n",
    "\n",
    "predict_nb = naive_bayes.predict(X_test)\n",
    "\n",
    "print('\\nTesting Accuracy:', accuracy_score(y_test, predict_nb))\n",
    "print('Precision score: ', precision_score(y_test, predict_nb, average='weighted'))\n",
    "print('Recall score:    ', recall_score(y_test, predict_nb, average='weighted'))\n",
    "print('F1 score:        ', f1_score(y_test, predict_nb, average='weighted'))"
   ]
  },
  {
   "cell_type": "code",
   "execution_count": 67,
   "metadata": {},
   "outputs": [
    {
     "name": "stdout",
     "output_type": "stream",
     "text": [
      "[0.9939759  0.94827586 1.         0.94674556 0.97633136 0.97633136\n",
      " 0.99378882 0.96969697 0.95375723 0.91715976] \n",
      "\n",
      "Average cross-validation F-beta score: 0.9676062828026973\n"
     ]
    }
   ],
   "source": [
    "#cross validation for Naive Bayes\n",
    "naive_bayes_val_score = validation_score(naive_bayes)\n",
    "print(naive_bayes_val_score, \"\\n\")\n",
    "print(\"Average cross-validation F-beta score:\", naive_bayes_val_score.mean())"
   ]
  },
  {
   "cell_type": "code",
   "execution_count": 68,
   "metadata": {},
   "outputs": [
    {
     "name": "stdout",
     "output_type": "stream",
     "text": [
      "Training Accuracy: 0.9985294117647059\n",
      "\n",
      "Testing Accuracy: 0.9470588235294117\n",
      "Precision score:  0.9476597615790501\n",
      "Recall score:     0.9470588235294117\n",
      "F1 score:         0.9470643193434335\n"
     ]
    }
   ],
   "source": [
    "#Support Vector Machine with linear kernel\n",
    "svc = SVC(kernel = 'linear', C = 1.0)\n",
    "svc.fit(X_train, y_train)\n",
    "\n",
    "print(\"Training Accuracy:\", svc.score(X_train, y_train))\n",
    "\n",
    "predict_svm = svc.predict(X_test)\n",
    "\n",
    "print('\\nTesting Accuracy:', accuracy_score(y_test, predict_svm))\n",
    "print('Precision score: ', precision_score(y_test, predict_svm, average='weighted'))\n",
    "print('Recall score:    ', recall_score(y_test, predict_svm, average='weighted'))\n",
    "print('F1 score:        ', f1_score(y_test, predict_svm, average='weighted'))"
   ]
  },
  {
   "cell_type": "code",
   "execution_count": 69,
   "metadata": {},
   "outputs": [
    {
     "name": "stdout",
     "output_type": "stream",
     "text": [
      "[0.98765432 0.96385542 1.         0.98726115 0.98039216 0.98726115\n",
      " 0.97315436 0.98039216 0.96273292 0.94771242] \n",
      "\n",
      "Average cross-validation F-beta score: 0.9770416049364942\n"
     ]
    }
   ],
   "source": [
    "#cross validation for Support Vector Machine\n",
    "svc_val_score = validation_score(svc)\n",
    "print(svc_val_score, \"\\n\")\n",
    "print(\"Average cross-validation F-beta score:\", svc_val_score.mean())"
   ]
  },
  {
   "cell_type": "code",
   "execution_count": 70,
   "metadata": {},
   "outputs": [
    {
     "name": "stdout",
     "output_type": "stream",
     "text": [
      "Training Accuracy: 0.8867647058823529\n",
      "\n",
      "Testing Accuracy: 0.8647058823529412\n",
      "Precision score:  0.8769107643057223\n",
      "Recall score:     0.8647058823529412\n",
      "F1 score:         0.8639301941979751\n"
     ]
    }
   ],
   "source": [
    "# Decision Tree Classifier\n",
    "dtc = DecisionTreeClassifier(max_depth=5)\n",
    "dtc.fit(X_train, y_train)\n",
    "\n",
    "print(\"Training Accuracy:\", dtc.score(X_train, y_train))\n",
    "\n",
    "predict_dtc = dtc.predict(X_test)\n",
    "\n",
    "print('\\nTesting Accuracy:', accuracy_score(y_test, predict_dtc))\n",
    "print('Precision score: ', precision_score(y_test, predict_dtc, average='weighted'))\n",
    "print('Recall score:    ', recall_score(y_test, predict_dtc, average='weighted'))\n",
    "print('F1 score:        ', f1_score(y_test, predict_dtc, average='weighted'))"
   ]
  },
  {
   "cell_type": "code",
   "execution_count": 71,
   "metadata": {},
   "outputs": [
    {
     "name": "stdout",
     "output_type": "stream",
     "text": [
      "[0.93333333 0.86956522 0.95070423 0.93023256 0.93103448 0.93023256\n",
      " 0.91503268 0.88       0.93984962 0.82644628] \n",
      "\n",
      "Average cross-validation F-beta score: 0.910643095990489\n"
     ]
    }
   ],
   "source": [
    "#cross validation for Decision Tree\n",
    "dtc_val_score = validation_score(dtc)\n",
    "print(dtc_val_score, \"\\n\")\n",
    "print(\"Average cross-validation F-beta score:\", dtc_val_score.mean())"
   ]
  },
  {
   "cell_type": "code",
   "execution_count": 72,
   "metadata": {},
   "outputs": [
    {
     "name": "stdout",
     "output_type": "stream",
     "text": [
      "Training Accuracy: 0.9941176470588236\n",
      "\n",
      "Testing Accuracy: 0.9470588235294117\n",
      "Precision score:  0.9486810356071473\n",
      "Recall score:     0.9470588235294117\n",
      "F1 score:         0.9470496638393757\n"
     ]
    }
   ],
   "source": [
    "#Ada Boost Classifier\n",
    "abc = AdaBoostClassifier(n_estimators=50, random_state=2)\n",
    "abc.fit(X_train, y_train)\n",
    "\n",
    "print(\"Training Accuracy:\", abc.score(X_train, y_train))\n",
    "\n",
    "predict_abc = abc.predict(X_test)\n",
    "\n",
    "print('\\nTesting Accuracy:', accuracy_score(y_test, predict_abc))\n",
    "print('Precision score: ', precision_score(y_test, predict_abc, average='weighted'))\n",
    "print('Recall score:    ', recall_score(y_test, predict_abc, average='weighted'))\n",
    "print('F1 score:        ', f1_score(y_test, predict_abc, average='weighted'))"
   ]
  },
  {
   "cell_type": "code",
   "execution_count": 73,
   "metadata": {},
   "outputs": [
    {
     "name": "stdout",
     "output_type": "stream",
     "text": [
      "[0.94827586 1.         0.9939759  0.95541401 0.98726115 0.94771242\n",
      " 0.93103448 0.96273292 0.89595376 0.92356688] \n",
      "\n",
      "Average cross-validation F-beta score: 0.9545927381439349\n"
     ]
    }
   ],
   "source": [
    "#cross validation for Ada Boost Classifier\n",
    "abc_val_score = validation_score(abc)\n",
    "print(abc_val_score, \"\\n\")\n",
    "print(\"Average cross-validation F-beta score:\", abc_val_score.mean())"
   ]
  },
  {
   "cell_type": "code",
   "execution_count": 74,
   "metadata": {},
   "outputs": [
    {
     "name": "stdout",
     "output_type": "stream",
     "text": [
      "Training Accuracy: 0.9691176470588235\n",
      "\n",
      "Testing Accuracy: 0.9235294117647059\n",
      "Precision score:  0.9265604575163399\n",
      "Recall score:     0.9235294117647059\n",
      "F1 score:         0.923473827591332\n"
     ]
    }
   ],
   "source": [
    "# XGBoost Classifier\n",
    "xgb = XGBClassifier(n_estimators=50,random_state=2, use_label_encoder=False, eval_metric='rmse')\n",
    "xgb.fit(X_train, y_train)\n",
    "\n",
    "print(\"Training Accuracy:\", xgb.score(X_train, y_train))\n",
    "\n",
    "predict_xgb = xgb.predict(X_test)\n",
    "\n",
    "print('\\nTesting Accuracy:', accuracy_score(y_test, predict_xgb))\n",
    "print('Precision score: ', precision_score(y_test, predict_xgb, average='weighted'))\n",
    "print('Recall score:    ', recall_score(y_test, predict_xgb, average='weighted'))\n",
    "print('F1 score:        ', f1_score(y_test, predict_xgb, average='weighted'))"
   ]
  },
  {
   "cell_type": "code",
   "execution_count": 75,
   "metadata": {},
   "outputs": [
    {
     "name": "stdout",
     "output_type": "stream",
     "text": [
      "[0.96385542 0.91772152 1.         0.97315436 0.96273292 0.96551724\n",
      " 0.94771242 0.92356688 0.92356688 0.90604027] \n",
      "\n",
      "Average cross-validation F-beta score: 0.9483867908442978\n"
     ]
    }
   ],
   "source": [
    "#cross validation for XGBoost Classifier\n",
    "xgb_val_score = validation_score(xgb)\n",
    "print(xgb_val_score, \"\\n\")\n",
    "print(\"Average cross-validation F-beta score:\", xgb_val_score.mean())"
   ]
  },
  {
   "cell_type": "code",
   "execution_count": 76,
   "metadata": {},
   "outputs": [
    {
     "name": "stdout",
     "output_type": "stream",
     "text": [
      "Training Accuracy: 0.9985294117647059\n",
      "\n",
      "Testing Accuracy: 0.9764705882352941\n",
      "Precision score:  0.9767219080724256\n",
      "Recall score:     0.9764705882352941\n",
      "F1 score:         0.9764608060519108\n"
     ]
    }
   ],
   "source": [
    "# Stochastic Gradient Descent Classifier\n",
    "sgd = SGDClassifier()\n",
    "sgd.fit(X_train, y_train)\n",
    "\n",
    "print(\"Training Accuracy:\", sgd.score(X_train, y_train))\n",
    "\n",
    "predict_sgd = sgd.predict(X_test)\n",
    "\n",
    "print('\\nTesting Accuracy:', accuracy_score(y_test, predict_sgd))\n",
    "print('Precision score: ', precision_score(y_test, predict_sgd, average='weighted'))\n",
    "print('Recall score:    ', recall_score(y_test, predict_sgd, average='weighted'))\n",
    "print('F1 score:        ', f1_score(y_test, predict_sgd, average='weighted'))"
   ]
  },
  {
   "cell_type": "code",
   "execution_count": 77,
   "metadata": {},
   "outputs": [
    {
     "name": "stdout",
     "output_type": "stream",
     "text": [
      "[0.92696629 0.94827586 1.         0.98039216 0.96969697 0.97633136\n",
      " 0.98726115 0.96273292 0.95375723 0.93939394] \n",
      "\n",
      "Average cross-validation F-beta score: 0.9644807872289196\n"
     ]
    }
   ],
   "source": [
    "#cross validation for Stochastic Gradient Descent\n",
    "sgd_val_score = validation_score(sgd)\n",
    "print(sgd_val_score, \"\\n\")\n",
    "print(\"Average cross-validation F-beta score:\", sgd_val_score.mean())"
   ]
  },
  {
   "cell_type": "code",
   "execution_count": 10,
   "metadata": {},
   "outputs": [],
   "source": [
    "#for fitting the model\n",
    "X_train = X_train.toarray()\n",
    "X_test = X_test.toarray()"
   ]
  },
  {
   "cell_type": "code",
   "execution_count": 94,
   "metadata": {
    "scrolled": true
   },
   "outputs": [
    {
     "name": "stdout",
     "output_type": "stream",
     "text": [
      "Epoch 1/50\n",
      "22/22 [==============================] - 1s 8ms/step - loss: 0.6936 - accuracy: 0.5574 - val_loss: 0.6828 - val_accuracy: 0.7235\n",
      "Epoch 2/50\n",
      "22/22 [==============================] - 0s 3ms/step - loss: 0.6597 - accuracy: 0.8985 - val_loss: 0.6442 - val_accuracy: 0.9118\n",
      "Epoch 3/50\n",
      "22/22 [==============================] - 0s 3ms/step - loss: 0.5955 - accuracy: 0.9706 - val_loss: 0.5679 - val_accuracy: 0.9412\n",
      "Epoch 4/50\n",
      "22/22 [==============================] - 0s 3ms/step - loss: 0.4920 - accuracy: 0.9824 - val_loss: 0.4690 - val_accuracy: 0.9647\n",
      "Epoch 5/50\n",
      "22/22 [==============================] - 0s 3ms/step - loss: 0.3758 - accuracy: 0.9882 - val_loss: 0.3684 - val_accuracy: 0.9706\n",
      "Epoch 6/50\n",
      "22/22 [==============================] - 0s 3ms/step - loss: 0.2709 - accuracy: 0.9882 - val_loss: 0.2868 - val_accuracy: 0.9765\n",
      "Epoch 7/50\n",
      "22/22 [==============================] - 0s 3ms/step - loss: 0.1941 - accuracy: 0.9912 - val_loss: 0.2286 - val_accuracy: 0.9765\n",
      "Epoch 8/50\n",
      "22/22 [==============================] - 0s 3ms/step - loss: 0.1422 - accuracy: 0.9912 - val_loss: 0.1867 - val_accuracy: 0.9706\n",
      "Epoch 9/50\n",
      "22/22 [==============================] - 0s 3ms/step - loss: 0.1072 - accuracy: 0.9897 - val_loss: 0.1582 - val_accuracy: 0.9706\n",
      "Epoch 10/50\n",
      "22/22 [==============================] - 0s 3ms/step - loss: 0.0831 - accuracy: 0.9912 - val_loss: 0.1371 - val_accuracy: 0.9706\n",
      "Epoch 11/50\n",
      "22/22 [==============================] - 0s 3ms/step - loss: 0.0669 - accuracy: 0.9912 - val_loss: 0.1207 - val_accuracy: 0.9706\n",
      "Epoch 12/50\n",
      "22/22 [==============================] - 0s 3ms/step - loss: 0.0558 - accuracy: 0.9912 - val_loss: 0.1088 - val_accuracy: 0.9706\n",
      "Epoch 13/50\n",
      "22/22 [==============================] - 0s 3ms/step - loss: 0.0471 - accuracy: 0.9912 - val_loss: 0.0997 - val_accuracy: 0.9706\n",
      "Epoch 14/50\n",
      "22/22 [==============================] - 0s 3ms/step - loss: 0.0402 - accuracy: 0.9912 - val_loss: 0.0918 - val_accuracy: 0.9706\n",
      "Epoch 15/50\n",
      "22/22 [==============================] - 0s 3ms/step - loss: 0.0348 - accuracy: 0.9912 - val_loss: 0.0855 - val_accuracy: 0.9706\n",
      "Epoch 16/50\n",
      "22/22 [==============================] - 0s 3ms/step - loss: 0.0311 - accuracy: 0.9897 - val_loss: 0.0804 - val_accuracy: 0.9706\n",
      "Epoch 17/50\n",
      "22/22 [==============================] - 0s 3ms/step - loss: 0.0273 - accuracy: 0.9941 - val_loss: 0.0761 - val_accuracy: 0.9824\n",
      "Epoch 18/50\n",
      "22/22 [==============================] - 0s 3ms/step - loss: 0.0246 - accuracy: 0.9956 - val_loss: 0.0723 - val_accuracy: 0.9824\n",
      "Epoch 19/50\n",
      "22/22 [==============================] - 0s 3ms/step - loss: 0.0222 - accuracy: 0.9956 - val_loss: 0.0691 - val_accuracy: 0.9824\n",
      "Epoch 20/50\n",
      "22/22 [==============================] - 0s 3ms/step - loss: 0.0204 - accuracy: 0.9971 - val_loss: 0.0665 - val_accuracy: 0.9824\n",
      "Epoch 21/50\n",
      "22/22 [==============================] - 0s 3ms/step - loss: 0.0188 - accuracy: 0.9956 - val_loss: 0.0645 - val_accuracy: 0.9824\n",
      "Epoch 22/50\n",
      "22/22 [==============================] - 0s 3ms/step - loss: 0.0172 - accuracy: 0.9971 - val_loss: 0.0623 - val_accuracy: 0.9824\n",
      "Epoch 23/50\n",
      "22/22 [==============================] - 0s 3ms/step - loss: 0.0161 - accuracy: 0.9956 - val_loss: 0.0602 - val_accuracy: 0.9824\n",
      "Epoch 24/50\n",
      "22/22 [==============================] - 0s 3ms/step - loss: 0.0150 - accuracy: 0.9971 - val_loss: 0.0589 - val_accuracy: 0.9882\n",
      "Epoch 25/50\n",
      "22/22 [==============================] - 0s 3ms/step - loss: 0.0140 - accuracy: 0.9956 - val_loss: 0.0580 - val_accuracy: 0.9882\n",
      "Epoch 26/50\n",
      "22/22 [==============================] - 0s 3ms/step - loss: 0.0129 - accuracy: 0.9971 - val_loss: 0.0564 - val_accuracy: 0.9882\n",
      "Epoch 27/50\n",
      "22/22 [==============================] - 0s 3ms/step - loss: 0.0122 - accuracy: 0.9985 - val_loss: 0.0553 - val_accuracy: 0.9882\n",
      "Epoch 28/50\n",
      "22/22 [==============================] - 0s 3ms/step - loss: 0.0117 - accuracy: 0.9985 - val_loss: 0.0545 - val_accuracy: 0.9882\n",
      "Epoch 29/50\n",
      "22/22 [==============================] - 0s 3ms/step - loss: 0.0108 - accuracy: 0.9971 - val_loss: 0.0532 - val_accuracy: 0.9882\n",
      "Epoch 30/50\n",
      "22/22 [==============================] - 0s 3ms/step - loss: 0.0100 - accuracy: 0.9985 - val_loss: 0.0525 - val_accuracy: 0.9882\n",
      "Epoch 31/50\n",
      "22/22 [==============================] - 0s 3ms/step - loss: 0.0098 - accuracy: 0.9971 - val_loss: 0.0518 - val_accuracy: 0.9882\n",
      "Epoch 32/50\n",
      "22/22 [==============================] - 0s 3ms/step - loss: 0.0094 - accuracy: 0.9985 - val_loss: 0.0511 - val_accuracy: 0.9882\n",
      "Epoch 33/50\n",
      "22/22 [==============================] - 0s 3ms/step - loss: 0.0094 - accuracy: 0.9971 - val_loss: 0.0501 - val_accuracy: 0.9882\n",
      "Epoch 34/50\n",
      "22/22 [==============================] - 0s 3ms/step - loss: 0.0086 - accuracy: 0.9971 - val_loss: 0.0499 - val_accuracy: 0.9882\n",
      "Epoch 35/50\n",
      "22/22 [==============================] - 0s 3ms/step - loss: 0.0082 - accuracy: 0.9971 - val_loss: 0.0490 - val_accuracy: 0.9882\n",
      "Epoch 36/50\n",
      "22/22 [==============================] - 0s 3ms/step - loss: 0.0085 - accuracy: 0.9971 - val_loss: 0.0478 - val_accuracy: 0.9882\n",
      "Epoch 37/50\n",
      "22/22 [==============================] - 0s 3ms/step - loss: 0.0075 - accuracy: 0.9971 - val_loss: 0.0480 - val_accuracy: 0.9882\n",
      "Epoch 38/50\n",
      "22/22 [==============================] - 0s 3ms/step - loss: 0.0070 - accuracy: 0.9985 - val_loss: 0.0473 - val_accuracy: 0.9882\n",
      "Epoch 39/50\n",
      "22/22 [==============================] - 0s 3ms/step - loss: 0.0066 - accuracy: 0.9985 - val_loss: 0.0469 - val_accuracy: 0.9882\n",
      "Epoch 40/50\n",
      "22/22 [==============================] - 0s 3ms/step - loss: 0.0066 - accuracy: 0.9971 - val_loss: 0.0462 - val_accuracy: 0.9882\n",
      "Epoch 41/50\n",
      "22/22 [==============================] - 0s 3ms/step - loss: 0.0065 - accuracy: 0.9985 - val_loss: 0.0460 - val_accuracy: 0.9882\n",
      "Epoch 42/50\n",
      "22/22 [==============================] - 0s 3ms/step - loss: 0.0062 - accuracy: 0.9985 - val_loss: 0.0456 - val_accuracy: 0.9882\n",
      "Epoch 43/50\n",
      "22/22 [==============================] - 0s 3ms/step - loss: 0.0060 - accuracy: 0.9971 - val_loss: 0.0455 - val_accuracy: 0.9882\n",
      "Epoch 44/50\n",
      "22/22 [==============================] - 0s 3ms/step - loss: 0.0055 - accuracy: 0.9985 - val_loss: 0.0453 - val_accuracy: 0.9941\n",
      "Epoch 45/50\n",
      "22/22 [==============================] - 0s 3ms/step - loss: 0.0053 - accuracy: 0.9985 - val_loss: 0.0447 - val_accuracy: 0.9941\n",
      "Epoch 46/50\n",
      "22/22 [==============================] - 0s 3ms/step - loss: 0.0054 - accuracy: 0.9971 - val_loss: 0.0448 - val_accuracy: 0.9941\n",
      "Epoch 47/50\n",
      "22/22 [==============================] - 0s 3ms/step - loss: 0.0054 - accuracy: 0.9971 - val_loss: 0.0443 - val_accuracy: 0.9941\n",
      "Epoch 48/50\n",
      "22/22 [==============================] - 0s 3ms/step - loss: 0.0053 - accuracy: 0.9985 - val_loss: 0.0436 - val_accuracy: 0.9941\n",
      "Epoch 49/50\n",
      "22/22 [==============================] - 0s 3ms/step - loss: 0.0053 - accuracy: 0.9971 - val_loss: 0.0437 - val_accuracy: 0.9941\n",
      "Epoch 50/50\n",
      "22/22 [==============================] - 0s 3ms/step - loss: 0.0050 - accuracy: 0.9971 - val_loss: 0.0432 - val_accuracy: 0.9941\n"
     ]
    }
   ],
   "source": [
    "#Initialising ANN\n",
    "ann = Sequential()\n",
    " #Adding First Hidden Layer\n",
    "ann.add(Dense(units=6,activation=\"relu\"))\n",
    "#Adding Second Hidden Layer\n",
    "ann.add(Dense(units=6,activation=\"relu\"))\n",
    "#Adding Output Layer\n",
    "ann.add(Dense(units=1,activation=\"sigmoid\"))\n",
    "#Compiling ANN\n",
    "ann.compile(optimizer=\"adam\",loss=\"binary_crossentropy\",metrics=['accuracy'])\n",
    "#Fitting ANN\n",
    "history = ann.fit(X_train, y_train, validation_data=(X_test, y_test), batch_size=32, epochs = 50)"
   ]
  },
  {
   "cell_type": "code",
   "execution_count": 95,
   "metadata": {
    "scrolled": true
   },
   "outputs": [
    {
     "name": "stdout",
     "output_type": "stream",
     "text": [
      "Training Accuracy: 0.9985\n",
      "Training Loss: 0.0045\n",
      "Testing Accuracy:  0.9941\n",
      "Testing Loss:  0.0432\n"
     ]
    }
   ],
   "source": [
    "loss, accuracy = ann.evaluate(X_train, y_train, verbose=False)\n",
    "print(\"Training Accuracy: {:.4f}\".format(accuracy))\n",
    "print(\"Training Loss: {:.4f}\".format(loss))\n",
    "\n",
    "loss, accuracy = ann.evaluate(X_test, y_test, verbose=False)\n",
    "print(\"Testing Accuracy:  {:.4f}\".format(accuracy))\n",
    "print(\"Testing Loss:  {:.4f}\".format(loss))"
   ]
  },
  {
   "cell_type": "code",
   "execution_count": 96,
   "metadata": {},
   "outputs": [
    {
     "data": {
      "image/png": "[encoded data removed]",
      "text/plain": [
       "<Figure size 1008x216 with 2 Axes>"
      ]
     },
     "metadata": {
      "needs_background": "light"
     },
     "output_type": "display_data"
    }
   ],
   "source": [
    "# Plot training & validation accuracy values\n",
    "\n",
    "plt.figure(figsize=(14,3))\n",
    "plt.subplot(1, 2, 1)\n",
    "plt.plot(history.history['accuracy'])\n",
    "plt.plot(history.history['val_accuracy'])\n",
    "plt.title('Model accuracy')\n",
    "plt.ylabel('Accuracy')\n",
    "plt.xlabel('Epoch')\n",
    "plt.legend(['Train', 'Test'], loc='upper left')\n",
    "\n",
    "# Plot training & validation loss values\n",
    "plt.subplot(1, 2, 2)\n",
    "plt.plot(history.history['loss'])\n",
    "plt.plot(history.history['val_loss'])\n",
    "plt.title('Model loss')\n",
    "plt.ylabel('Loss')\n",
    "plt.xlabel('Epoch')\n",
    "plt.legend(['Train', 'Test'], loc='upper left')\n",
    "\n",
    "plt.show()"
   ]
  },
  {
   "cell_type": "code",
   "execution_count": 82,
   "metadata": {},
   "outputs": [
    {
     "name": "stdout",
     "output_type": "stream",
     "text": [
      "Model: \"sequential_1\"\n",
      "_________________________________________________________________\n",
      " Layer (type)                Output Shape              Param #   \n",
      "=================================================================\n",
      " embedding (Embedding)       (None, 3044, 300)         300000    \n",
      "                                                                 \n",
      " conv1d (Conv1D)             (None, 3044, 128)         153728    \n",
      "                                                                 \n",
      " max_pooling1d (MaxPooling1D  (None, 1522, 128)        0         \n",
      " )                                                               \n",
      "                                                                 \n",
      " conv1d_1 (Conv1D)           (None, 1522, 64)          32832     \n",
      "                                                                 \n",
      " max_pooling1d_1 (MaxPooling  (None, 761, 64)          0         \n",
      " 1D)                                                             \n",
      "                                                                 \n",
      " conv1d_2 (Conv1D)           (None, 761, 32)           8224      \n",
      "                                                                 \n",
      " max_pooling1d_2 (MaxPooling  (None, 380, 32)          0         \n",
      " 1D)                                                             \n",
      "                                                                 \n",
      " flatten (Flatten)           (None, 12160)             0         \n",
      "                                                                 \n",
      " dense_3 (Dense)             (None, 256)               3113216   \n",
      "                                                                 \n",
      " dense_4 (Dense)             (None, 1)                 257       \n",
      "                                                                 \n",
      "=================================================================\n",
      "Total params: 3,608,257\n",
      "Trainable params: 3,608,257\n",
      "Non-trainable params: 0\n",
      "_________________________________________________________________\n"
     ]
    }
   ],
   "source": [
    "# create the CNN model\n",
    "cnn = Sequential()\n",
    "cnn.add(Embedding(1000, 64, input_length=3044))\n",
    "cnn.add(Conv1D(filters=128, kernel_size=4, padding='same', activation='relu'))\n",
    "cnn.add(MaxPooling1D(pool_size=2))\n",
    "cnn.add(Conv1D(filters=64, kernel_size=4, padding='same', activation='relu'))\n",
    "cnn.add(MaxPooling1D(pool_size=2))\n",
    "cnn.add(Conv1D(filters=32, kernel_size=4, padding='same', activation='relu'))\n",
    "cnn.add(MaxPooling1D(pool_size=2))\n",
    "cnn.add(Flatten())\n",
    "cnn.add(Dense(256, activation='relu'))\n",
    "cnn.add(Dense(1, activation='sigmoid'))\n",
    "cnn.compile(loss='binary_crossentropy', optimizer='adam', metrics=['accuracy'])\n",
    "cnn.summary()"
   ]
  },
  {
   "cell_type": "code",
   "execution_count": 83,
   "metadata": {
    "scrolled": true
   },
   "outputs": [
    {
     "name": "stdout",
     "output_type": "stream",
     "text": [
      "Epoch 1/50\n",
      "17/17 [==============================] - 11s 627ms/step - loss: 0.6964 - accuracy: 0.4596 - val_loss: 0.6889 - val_accuracy: 0.5074\n",
      "Epoch 2/50\n",
      "17/17 [==============================] - 11s 642ms/step - loss: 0.5980 - accuracy: 0.7463 - val_loss: 0.3800 - val_accuracy: 0.8456\n",
      "Epoch 3/50\n",
      "17/17 [==============================] - 10s 614ms/step - loss: 0.1721 - accuracy: 0.9412 - val_loss: 0.1529 - val_accuracy: 0.9632\n",
      "Epoch 4/50\n",
      "17/17 [==============================] - 11s 644ms/step - loss: 0.0482 - accuracy: 0.9871 - val_loss: 0.1773 - val_accuracy: 0.9485\n",
      "Epoch 5/50\n",
      "17/17 [==============================] - 11s 642ms/step - loss: 0.0112 - accuracy: 0.9963 - val_loss: 0.2651 - val_accuracy: 0.9485\n",
      "Epoch 6/50\n",
      "17/17 [==============================] - 11s 633ms/step - loss: 0.0011 - accuracy: 1.0000 - val_loss: 0.3645 - val_accuracy: 0.9412\n",
      "Epoch 7/50\n",
      "17/17 [==============================] - 11s 644ms/step - loss: 8.1249e-04 - accuracy: 1.0000 - val_loss: 0.3759 - val_accuracy: 0.9485\n",
      "Epoch 8/50\n",
      "17/17 [==============================] - 11s 634ms/step - loss: 3.7704e-04 - accuracy: 1.0000 - val_loss: 0.4059 - val_accuracy: 0.9338\n",
      "Epoch 9/50\n",
      "17/17 [==============================] - 11s 628ms/step - loss: 1.2637e-04 - accuracy: 1.0000 - val_loss: 0.4364 - val_accuracy: 0.9412\n",
      "Epoch 10/50\n",
      "17/17 [==============================] - 11s 645ms/step - loss: 8.5232e-05 - accuracy: 1.0000 - val_loss: 0.4425 - val_accuracy: 0.9412\n",
      "Epoch 11/50\n",
      "17/17 [==============================] - 11s 639ms/step - loss: 6.0906e-05 - accuracy: 1.0000 - val_loss: 0.4469 - val_accuracy: 0.9412\n",
      "Epoch 12/50\n",
      "17/17 [==============================] - 11s 651ms/step - loss: 4.8425e-05 - accuracy: 1.0000 - val_loss: 0.4548 - val_accuracy: 0.9412\n",
      "Epoch 13/50\n",
      "17/17 [==============================] - 11s 624ms/step - loss: 4.0203e-05 - accuracy: 1.0000 - val_loss: 0.4611 - val_accuracy: 0.9412\n",
      "Epoch 14/50\n",
      "17/17 [==============================] - 10s 614ms/step - loss: 3.3302e-05 - accuracy: 1.0000 - val_loss: 0.4675 - val_accuracy: 0.9412\n",
      "Epoch 15/50\n",
      "17/17 [==============================] - 10s 609ms/step - loss: 2.9291e-05 - accuracy: 1.0000 - val_loss: 0.4738 - val_accuracy: 0.9412\n",
      "Epoch 16/50\n",
      "17/17 [==============================] - 10s 612ms/step - loss: 2.6303e-05 - accuracy: 1.0000 - val_loss: 0.4815 - val_accuracy: 0.9412\n",
      "Epoch 17/50\n",
      "17/17 [==============================] - 10s 614ms/step - loss: 2.1365e-05 - accuracy: 1.0000 - val_loss: 0.4828 - val_accuracy: 0.9412\n",
      "Epoch 18/50\n",
      "17/17 [==============================] - 11s 621ms/step - loss: 1.9034e-05 - accuracy: 1.0000 - val_loss: 0.4869 - val_accuracy: 0.9412\n",
      "Epoch 19/50\n",
      "17/17 [==============================] - 10s 611ms/step - loss: 1.6433e-05 - accuracy: 1.0000 - val_loss: 0.4941 - val_accuracy: 0.9412\n",
      "Epoch 20/50\n",
      "17/17 [==============================] - 10s 614ms/step - loss: 1.4282e-05 - accuracy: 1.0000 - val_loss: 0.5003 - val_accuracy: 0.9412\n",
      "Epoch 21/50\n",
      "17/17 [==============================] - 11s 622ms/step - loss: 1.2723e-05 - accuracy: 1.0000 - val_loss: 0.5056 - val_accuracy: 0.9412\n",
      "Epoch 22/50\n",
      "17/17 [==============================] - 10s 616ms/step - loss: 1.1080e-05 - accuracy: 1.0000 - val_loss: 0.5116 - val_accuracy: 0.9412\n",
      "Epoch 23/50\n",
      "17/17 [==============================] - 10s 612ms/step - loss: 9.4938e-06 - accuracy: 1.0000 - val_loss: 0.5163 - val_accuracy: 0.9412\n",
      "Epoch 24/50\n",
      "17/17 [==============================] - 11s 619ms/step - loss: 8.0765e-06 - accuracy: 1.0000 - val_loss: 0.5232 - val_accuracy: 0.9412\n",
      "Epoch 25/50\n",
      "17/17 [==============================] - 10s 609ms/step - loss: 6.7876e-06 - accuracy: 1.0000 - val_loss: 0.5305 - val_accuracy: 0.9412\n",
      "Epoch 26/50\n",
      "17/17 [==============================] - 10s 603ms/step - loss: 5.7135e-06 - accuracy: 1.0000 - val_loss: 0.5383 - val_accuracy: 0.9412\n",
      "Epoch 27/50\n",
      "17/17 [==============================] - 10s 605ms/step - loss: 4.7502e-06 - accuracy: 1.0000 - val_loss: 0.5474 - val_accuracy: 0.9412\n",
      "Epoch 28/50\n",
      "17/17 [==============================] - 10s 616ms/step - loss: 3.9568e-06 - accuracy: 1.0000 - val_loss: 0.5574 - val_accuracy: 0.9338\n",
      "Epoch 29/50\n",
      "17/17 [==============================] - 10s 608ms/step - loss: 3.2392e-06 - accuracy: 1.0000 - val_loss: 0.5670 - val_accuracy: 0.9338\n",
      "Epoch 30/50\n",
      "17/17 [==============================] - 10s 619ms/step - loss: 2.6578e-06 - accuracy: 1.0000 - val_loss: 0.5802 - val_accuracy: 0.9412\n",
      "Epoch 31/50\n",
      "17/17 [==============================] - 10s 613ms/step - loss: 2.2735e-06 - accuracy: 1.0000 - val_loss: 0.5893 - val_accuracy: 0.9412\n",
      "Epoch 32/50\n",
      "17/17 [==============================] - 10s 610ms/step - loss: 1.8573e-06 - accuracy: 1.0000 - val_loss: 0.5961 - val_accuracy: 0.9412\n",
      "Epoch 33/50\n",
      "17/17 [==============================] - 10s 611ms/step - loss: 1.5555e-06 - accuracy: 1.0000 - val_loss: 0.6020 - val_accuracy: 0.9338\n",
      "Epoch 34/50\n",
      "17/17 [==============================] - 10s 613ms/step - loss: 1.4097e-06 - accuracy: 1.0000 - val_loss: 0.6086 - val_accuracy: 0.9338\n",
      "Epoch 35/50\n",
      "17/17 [==============================] - 10s 615ms/step - loss: 1.1979e-06 - accuracy: 1.0000 - val_loss: 0.6197 - val_accuracy: 0.9338\n",
      "Epoch 36/50\n",
      "17/17 [==============================] - 11s 632ms/step - loss: 1.0436e-06 - accuracy: 1.0000 - val_loss: 0.6252 - val_accuracy: 0.9338\n",
      "Epoch 37/50\n",
      "17/17 [==============================] - 11s 628ms/step - loss: 8.9880e-07 - accuracy: 1.0000 - val_loss: 0.6324 - val_accuracy: 0.9338\n",
      "Epoch 38/50\n",
      "17/17 [==============================] - 11s 625ms/step - loss: 8.0223e-07 - accuracy: 1.0000 - val_loss: 0.6386 - val_accuracy: 0.9338\n",
      "Epoch 39/50\n",
      "17/17 [==============================] - 10s 614ms/step - loss: 7.5540e-07 - accuracy: 1.0000 - val_loss: 0.6420 - val_accuracy: 0.9338\n",
      "Epoch 40/50\n",
      "17/17 [==============================] - 10s 612ms/step - loss: 6.4852e-07 - accuracy: 1.0000 - val_loss: 0.6489 - val_accuracy: 0.9338\n",
      "Epoch 41/50\n",
      "17/17 [==============================] - 11s 624ms/step - loss: 5.8774e-07 - accuracy: 1.0000 - val_loss: 0.6549 - val_accuracy: 0.9338\n",
      "Epoch 42/50\n",
      "17/17 [==============================] - 11s 623ms/step - loss: 5.3800e-07 - accuracy: 1.0000 - val_loss: 0.6584 - val_accuracy: 0.9338\n",
      "Epoch 43/50\n",
      "17/17 [==============================] - 10s 615ms/step - loss: 4.9186e-07 - accuracy: 1.0000 - val_loss: 0.6636 - val_accuracy: 0.9338\n",
      "Epoch 44/50\n",
      "17/17 [==============================] - 10s 618ms/step - loss: 4.5324e-07 - accuracy: 1.0000 - val_loss: 0.6678 - val_accuracy: 0.9338\n",
      "Epoch 45/50\n",
      "17/17 [==============================] - 11s 644ms/step - loss: 4.1586e-07 - accuracy: 1.0000 - val_loss: 0.6722 - val_accuracy: 0.9338\n",
      "Epoch 46/50\n",
      "17/17 [==============================] - 10s 610ms/step - loss: 3.7683e-07 - accuracy: 1.0000 - val_loss: 0.6764 - val_accuracy: 0.9338\n",
      "Epoch 47/50\n",
      "17/17 [==============================] - 11s 646ms/step - loss: 3.5357e-07 - accuracy: 1.0000 - val_loss: 0.6801 - val_accuracy: 0.9338\n",
      "Epoch 48/50\n",
      "17/17 [==============================] - 11s 636ms/step - loss: 3.2651e-07 - accuracy: 1.0000 - val_loss: 0.6847 - val_accuracy: 0.9338\n",
      "Epoch 49/50\n",
      "17/17 [==============================] - 10s 613ms/step - loss: 3.0616e-07 - accuracy: 1.0000 - val_loss: 0.6872 - val_accuracy: 0.9338\n",
      "Epoch 50/50\n",
      "17/17 [==============================] - 23s 1s/step - loss: 2.8413e-07 - accuracy: 1.0000 - val_loss: 0.6905 - val_accuracy: 0.9338\n"
     ]
    }
   ],
   "source": [
    "# Fit the model\n",
    "history = cnn.fit(X_train, y_train, validation_data=(X_test, y_test), epochs=50, batch_size=32, validation_split=0.2)"
   ]
  },
  {
   "cell_type": "code",
   "execution_count": 89,
   "metadata": {},
   "outputs": [
    {
     "name": "stdout",
     "output_type": "stream",
     "text": [
      "Training Accuracy: 0.9868\n",
      "Training Loss: 0.1381\n",
      "Testing Accuracy:  0.9529\n",
      "Testing Loss:  0.3142\n"
     ]
    }
   ],
   "source": [
    "loss, accuracy = cnn.evaluate(X_train, y_train, verbose=False)\n",
    "print(\"Training Accuracy: {:.4f}\".format(accuracy))\n",
    "print(\"Training Loss: {:.4f}\".format(loss))\n",
    "\n",
    "loss, accuracy = cnn.evaluate(X_test, y_test, verbose=False)\n",
    "print(\"Testing Accuracy:  {:.4f}\".format(accuracy))\n",
    "print(\"Testing Loss:  {:.4f}\".format(loss))"
   ]
  },
  {
   "cell_type": "code",
   "execution_count": 90,
   "metadata": {},
   "outputs": [
    {
     "data": {
      "image/png": "[encoded data removed]",
      "text/plain": [
       "<Figure size 1008x216 with 2 Axes>"
      ]
     },
     "metadata": {
      "needs_background": "light"
     },
     "output_type": "display_data"
    }
   ],
   "source": [
    "# Plot training & validation accuracy values\n",
    "plt.figure(figsize=(14,3))\n",
    "plt.subplot(1, 2, 1)\n",
    "plt.plot(history.history['accuracy'])\n",
    "plt.plot(history.history['val_accuracy'])\n",
    "plt.title('Model accuracy')\n",
    "plt.ylabel('Accuracy')\n",
    "plt.xlabel('Epoch')\n",
    "plt.legend(['Train', 'Test'], loc='upper left')\n",
    "\n",
    "# Plot training & validation loss values\n",
    "plt.subplot(1, 2, 2)\n",
    "plt.plot(history.history['loss'])\n",
    "plt.plot(history.history['val_loss'])\n",
    "plt.title('Model loss')\n",
    "plt.ylabel('Loss')\n",
    "plt.xlabel('Epoch')\n",
    "plt.legend(['Train', 'Test'], loc='upper left')\n",
    "\n",
    "plt.show()"
   ]
  },
  {
   "cell_type": "code",
   "execution_count": 13,
   "metadata": {},
   "outputs": [
    {
     "name": "stdout",
     "output_type": "stream",
     "text": [
      "Model: \"sequential_1\"\n",
      "_________________________________________________________________\n",
      " Layer (type)                Output Shape              Param #   \n",
      "=================================================================\n",
      " embedding_1 (Embedding)     (None, 3044, 64)          64000     \n",
      "                                                                 \n",
      " lstm_1 (LSTM)               (None, 100)               66000     \n",
      "                                                                 \n",
      " dense_1 (Dense)             (None, 1)                 101       \n",
      "                                                                 \n",
      "=================================================================\n",
      "Total params: 130,101\n",
      "Trainable params: 130,101\n",
      "Non-trainable params: 0\n",
      "_________________________________________________________________\n"
     ]
    }
   ],
   "source": [
    "# Create the LSTM Model\n",
    "lstm = Sequential()\n",
    "lstm.add(Embedding(input_dim=1000, output_dim=64, input_length=3044))\n",
    "lstm.add(LSTM(100))\n",
    "lstm.add(Dense(1, activation=\"sigmoid\"))\n",
    "lstm.compile(optimizer=\"adam\", loss=\"binary_crossentropy\", metrics=['accuracy'])\n",
    "lstm.summary()"
   ]
  },
  {
   "cell_type": "code",
   "execution_count": 14,
   "metadata": {
    "scrolled": true
   },
   "outputs": [
    {
     "name": "stdout",
     "output_type": "stream",
     "text": [
      "Epoch 1/50\n",
      "17/17 [==============================] - 27s 2s/step - loss: 0.6933 - accuracy: 0.5147 - val_loss: 0.6942 - val_accuracy: 0.4926\n",
      "Epoch 2/50\n",
      "17/17 [==============================] - 31s 2s/step - loss: 0.6932 - accuracy: 0.5147 - val_loss: 0.6937 - val_accuracy: 0.4926\n",
      "Epoch 3/50\n",
      "17/17 [==============================] - 33s 2s/step - loss: 0.6936 - accuracy: 0.5147 - val_loss: 0.6939 - val_accuracy: 0.4926\n",
      "Epoch 4/50\n",
      "17/17 [==============================] - 33s 2s/step - loss: 0.6926 - accuracy: 0.5147 - val_loss: 0.6935 - val_accuracy: 0.4926\n",
      "Epoch 5/50\n",
      "17/17 [==============================] - 34s 2s/step - loss: 0.6927 - accuracy: 0.5147 - val_loss: 0.6938 - val_accuracy: 0.4926\n",
      "Epoch 6/50\n",
      "17/17 [==============================] - 35s 2s/step - loss: 0.6925 - accuracy: 0.5147 - val_loss: 0.6933 - val_accuracy: 0.4926\n",
      "Epoch 7/50\n",
      "17/17 [==============================] - 35s 2s/step - loss: 0.6931 - accuracy: 0.5147 - val_loss: 0.6931 - val_accuracy: 0.4926\n",
      "Epoch 8/50\n",
      "17/17 [==============================] - 35s 2s/step - loss: 0.6920 - accuracy: 0.5147 - val_loss: 0.6928 - val_accuracy: 0.4926\n",
      "Epoch 9/50\n",
      "17/17 [==============================] - 35s 2s/step - loss: 0.6913 - accuracy: 0.5147 - val_loss: 0.6917 - val_accuracy: 0.4926\n",
      "Epoch 10/50\n",
      "17/17 [==============================] - 35s 2s/step - loss: 0.6902 - accuracy: 0.4963 - val_loss: 0.6897 - val_accuracy: 0.4926\n",
      "Epoch 11/50\n",
      "17/17 [==============================] - 35s 2s/step - loss: 0.7938 - accuracy: 0.5092 - val_loss: 0.6898 - val_accuracy: 0.5221\n",
      "Epoch 12/50\n",
      "17/17 [==============================] - 35s 2s/step - loss: 0.6863 - accuracy: 0.5184 - val_loss: 0.6892 - val_accuracy: 0.5368\n",
      "Epoch 13/50\n",
      "17/17 [==============================] - 35s 2s/step - loss: 0.6813 - accuracy: 0.4871 - val_loss: 0.6939 - val_accuracy: 0.4926\n",
      "Epoch 14/50\n",
      "17/17 [==============================] - 35s 2s/step - loss: 0.6798 - accuracy: 0.5294 - val_loss: 0.6852 - val_accuracy: 0.5221\n",
      "Epoch 15/50\n",
      "17/17 [==============================] - 35s 2s/step - loss: 0.6786 - accuracy: 0.5312 - val_loss: 0.6842 - val_accuracy: 0.4926\n",
      "Epoch 16/50\n",
      "17/17 [==============================] - 35s 2s/step - loss: 0.6883 - accuracy: 0.5404 - val_loss: 0.6805 - val_accuracy: 0.5441\n",
      "Epoch 17/50\n",
      "17/17 [==============================] - 33s 2s/step - loss: 0.6796 - accuracy: 0.5312 - val_loss: 0.6822 - val_accuracy: 0.5368\n",
      "Epoch 18/50\n",
      "17/17 [==============================] - 34s 2s/step - loss: 0.6756 - accuracy: 0.5404 - val_loss: 0.6806 - val_accuracy: 0.5588\n",
      "Epoch 19/50\n",
      "17/17 [==============================] - 34s 2s/step - loss: 0.6691 - accuracy: 0.5037 - val_loss: 0.6763 - val_accuracy: 0.5662\n",
      "Epoch 20/50\n",
      "17/17 [==============================] - 34s 2s/step - loss: 0.6649 - accuracy: 0.5570 - val_loss: 0.6746 - val_accuracy: 0.5588\n",
      "Epoch 21/50\n",
      "17/17 [==============================] - 34s 2s/step - loss: 0.6550 - accuracy: 0.5423 - val_loss: 0.6630 - val_accuracy: 0.5735\n",
      "Epoch 22/50\n",
      "17/17 [==============================] - 34s 2s/step - loss: 0.6438 - accuracy: 0.5864 - val_loss: 0.6702 - val_accuracy: 0.5588\n",
      "Epoch 23/50\n",
      "17/17 [==============================] - 34s 2s/step - loss: 0.6499 - accuracy: 0.5699 - val_loss: 0.6614 - val_accuracy: 0.5735\n",
      "Epoch 24/50\n",
      "17/17 [==============================] - 34s 2s/step - loss: 0.6443 - accuracy: 0.5809 - val_loss: 0.6627 - val_accuracy: 0.5735\n",
      "Epoch 25/50\n",
      "17/17 [==============================] - 34s 2s/step - loss: 0.6436 - accuracy: 0.5882 - val_loss: 0.6601 - val_accuracy: 0.5809\n",
      "Epoch 26/50\n",
      "17/17 [==============================] - 33s 2s/step - loss: 0.6419 - accuracy: 0.5735 - val_loss: 0.6612 - val_accuracy: 0.5735\n",
      "Epoch 27/50\n",
      "17/17 [==============================] - 34s 2s/step - loss: 0.6433 - accuracy: 0.5864 - val_loss: 0.6614 - val_accuracy: 0.5809\n",
      "Epoch 28/50\n",
      "17/17 [==============================] - 37s 2s/step - loss: 0.6393 - accuracy: 0.5790 - val_loss: 0.6615 - val_accuracy: 0.5809\n",
      "Epoch 29/50\n",
      "17/17 [==============================] - 39s 2s/step - loss: 0.6377 - accuracy: 0.5809 - val_loss: 0.6605 - val_accuracy: 0.5809\n",
      "Epoch 30/50\n",
      "17/17 [==============================] - 37s 2s/step - loss: 0.6356 - accuracy: 0.5809 - val_loss: 0.6596 - val_accuracy: 0.5735\n",
      "Epoch 31/50\n",
      "17/17 [==============================] - 35s 2s/step - loss: 0.6380 - accuracy: 0.5790 - val_loss: 0.6665 - val_accuracy: 0.5809\n",
      "Epoch 32/50\n",
      "17/17 [==============================] - 34s 2s/step - loss: 0.6394 - accuracy: 0.5790 - val_loss: 0.6630 - val_accuracy: 0.5662\n",
      "Epoch 33/50\n",
      "17/17 [==============================] - 34s 2s/step - loss: 0.6369 - accuracy: 0.5827 - val_loss: 0.6634 - val_accuracy: 0.5735\n",
      "Epoch 34/50\n",
      "17/17 [==============================] - 34s 2s/step - loss: 0.6330 - accuracy: 0.5901 - val_loss: 0.6670 - val_accuracy: 0.5735\n",
      "Epoch 35/50\n",
      "17/17 [==============================] - 34s 2s/step - loss: 0.6351 - accuracy: 0.5882 - val_loss: 0.6592 - val_accuracy: 0.5735\n",
      "Epoch 36/50\n",
      "17/17 [==============================] - 35s 2s/step - loss: 0.6385 - accuracy: 0.5864 - val_loss: 0.6606 - val_accuracy: 0.5735\n",
      "Epoch 37/50\n",
      "17/17 [==============================] - 34s 2s/step - loss: 0.6365 - accuracy: 0.5846 - val_loss: 0.6616 - val_accuracy: 0.5735\n",
      "Epoch 38/50\n",
      "17/17 [==============================] - 34s 2s/step - loss: 0.6413 - accuracy: 0.5772 - val_loss: 0.6600 - val_accuracy: 0.5735\n",
      "Epoch 39/50\n",
      "17/17 [==============================] - 34s 2s/step - loss: 0.6350 - accuracy: 0.5882 - val_loss: 0.6660 - val_accuracy: 0.5809\n",
      "Epoch 40/50\n",
      "17/17 [==============================] - 34s 2s/step - loss: 0.6367 - accuracy: 0.5846 - val_loss: 0.6625 - val_accuracy: 0.5735\n",
      "Epoch 41/50\n",
      "17/17 [==============================] - 34s 2s/step - loss: 0.6373 - accuracy: 0.5790 - val_loss: 0.6607 - val_accuracy: 0.5735\n",
      "Epoch 42/50\n",
      "17/17 [==============================] - 34s 2s/step - loss: 0.6374 - accuracy: 0.5827 - val_loss: 0.6611 - val_accuracy: 0.5735\n",
      "Epoch 43/50\n",
      "17/17 [==============================] - 34s 2s/step - loss: 0.6327 - accuracy: 0.5882 - val_loss: 0.6563 - val_accuracy: 0.5662\n",
      "Epoch 44/50\n",
      "17/17 [==============================] - 34s 2s/step - loss: 0.6332 - accuracy: 0.5864 - val_loss: 0.6562 - val_accuracy: 0.5735\n",
      "Epoch 45/50\n",
      "17/17 [==============================] - 34s 2s/step - loss: 0.6329 - accuracy: 0.5846 - val_loss: 0.6594 - val_accuracy: 0.5662\n",
      "Epoch 46/50\n",
      "17/17 [==============================] - 34s 2s/step - loss: 0.6344 - accuracy: 0.5846 - val_loss: 0.6620 - val_accuracy: 0.5735\n",
      "Epoch 47/50\n",
      "17/17 [==============================] - 34s 2s/step - loss: 0.6297 - accuracy: 0.5864 - val_loss: 0.6548 - val_accuracy: 0.5735\n",
      "Epoch 48/50\n",
      "17/17 [==============================] - 34s 2s/step - loss: 0.6280 - accuracy: 0.5882 - val_loss: 0.6620 - val_accuracy: 0.5735\n",
      "Epoch 49/50\n",
      "17/17 [==============================] - 34s 2s/step - loss: 0.6329 - accuracy: 0.5864 - val_loss: 0.6588 - val_accuracy: 0.4926\n",
      "Epoch 50/50\n",
      "17/17 [==============================] - 34s 2s/step - loss: 0.6423 - accuracy: 0.5551 - val_loss: 0.6546 - val_accuracy: 0.5662\n"
     ]
    }
   ],
   "source": [
    "# Fit the model\n",
    "history = lstm.fit(X_train, y_train, validation_data=(X_test, y_test), epochs=50, batch_size=32, validation_split=0.2)"
   ]
  },
  {
   "cell_type": "code",
   "execution_count": 15,
   "metadata": {},
   "outputs": [
    {
     "name": "stdout",
     "output_type": "stream",
     "text": [
      "Training Accuracy: 0.5824\n",
      "Training Loss: 0.6342\n",
      "Testing Accuracy:  0.5471\n",
      "Testing Loss:  0.6821\n"
     ]
    }
   ],
   "source": [
    "loss, accuracy = lstm.evaluate(X_train, y_train, verbose=False)\n",
    "print(\"Training Accuracy: {:.4f}\".format(accuracy))\n",
    "print(\"Training Loss: {:.4f}\".format(loss))\n",
    "\n",
    "loss, accuracy = lstm.evaluate(X_test, y_test, verbose=False)\n",
    "print(\"Testing Accuracy:  {:.4f}\".format(accuracy))\n",
    "print(\"Testing Loss:  {:.4f}\".format(loss))"
   ]
  },
  {
   "cell_type": "code",
   "execution_count": 16,
   "metadata": {},
   "outputs": [
    {
     "data": {
      "image/png": "[encoded data removed]",
      "text/plain": [
       "<Figure size 1008x216 with 2 Axes>"
      ]
     },
     "metadata": {
      "needs_background": "light"
     },
     "output_type": "display_data"
    }
   ],
   "source": [
    "# Plot training & validation accuracy values\n",
    "\n",
    "plt.figure(figsize=(14,3))\n",
    "plt.subplot(1, 2, 1)\n",
    "plt.plot(history.history['accuracy'])\n",
    "plt.plot(history.history['val_accuracy'])\n",
    "plt.title('Model accuracy')\n",
    "plt.ylabel('Accuracy')\n",
    "plt.xlabel('Epoch')\n",
    "plt.legend(['Train', 'Test'], loc='upper left')\n",
    "\n",
    "# Plot training & validation loss values\n",
    "plt.subplot(1, 2, 2)\n",
    "plt.plot(history.history['loss'])\n",
    "plt.plot(history.history['val_loss'])\n",
    "plt.title('Model loss')\n",
    "plt.ylabel('Loss')\n",
    "plt.xlabel('Epoch')\n",
    "plt.legend(['Train', 'Test'], loc='upper left')\n",
    "\n",
    "plt.show()"
   ]
  },
  {
   "cell_type": "code",
   "execution_count": null,
   "metadata": {},
   "outputs": [],
   "source": []
  }
 ],
 "metadata": {
  "kernelspec": {
   "display_name": "Python 3",
   "language": "python",
   "name": "python3"
  },
  "language_info": {
   "codemirror_mode": {
    "name": "ipython",
    "version": 3
   },
   "file_extension": ".py",
   "mimetype": "text/x-python",
   "name": "python",
   "nbconvert_exporter": "python",
   "pygments_lexer": "ipython3",
   "version": "3.8.5"
  }
 },
 "nbformat": 4,
 "nbformat_minor": 4
}
